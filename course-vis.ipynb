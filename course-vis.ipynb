{
 "cells": [
  {
   "cell_type": "code",
   "execution_count": 196,
   "metadata": {},
   "outputs": [],
   "source": [
    "import pandas as pd \n",
    "import numpy as np\n",
    "import requests\n",
    "from bs4 import BeautifulSoup as soup \n",
    "import altair as alt \n",
    "import plotly.express as px\n",
    "from IPython.display import clear_output"
   ]
  },
  {
   "cell_type": "code",
   "execution_count": 197,
   "metadata": {},
   "outputs": [
    {
     "data": {
      "text/html": [
       "<div>\n",
       "<style scoped>\n",
       "    .dataframe tbody tr th:only-of-type {\n",
       "        vertical-align: middle;\n",
       "    }\n",
       "\n",
       "    .dataframe tbody tr th {\n",
       "        vertical-align: top;\n",
       "    }\n",
       "\n",
       "    .dataframe thead th {\n",
       "        text-align: right;\n",
       "    }\n",
       "</style>\n",
       "<table border=\"1\" class=\"dataframe\">\n",
       "  <thead>\n",
       "    <tr style=\"text-align: right;\">\n",
       "      <th></th>\n",
       "      <th>Unnamed: 0.1</th>\n",
       "      <th>Unnamed: 0</th>\n",
       "      <th>Year</th>\n",
       "      <th>Term</th>\n",
       "      <th>YearTerm</th>\n",
       "      <th>Subject</th>\n",
       "      <th>Number</th>\n",
       "      <th>Course Title</th>\n",
       "      <th>Sched Type</th>\n",
       "      <th>A+</th>\n",
       "      <th>...</th>\n",
       "      <th>D+</th>\n",
       "      <th>D</th>\n",
       "      <th>D-</th>\n",
       "      <th>F</th>\n",
       "      <th>W</th>\n",
       "      <th>Students</th>\n",
       "      <th>Primary Instructor</th>\n",
       "      <th>Total_Grade_Points</th>\n",
       "      <th>Total_Students</th>\n",
       "      <th>Overall_GPA</th>\n",
       "    </tr>\n",
       "  </thead>\n",
       "  <tbody>\n",
       "    <tr>\n",
       "      <th>0</th>\n",
       "      <td>0</td>\n",
       "      <td>10</td>\n",
       "      <td>2025</td>\n",
       "      <td>Winter</td>\n",
       "      <td>2025-wi</td>\n",
       "      <td>ECON</td>\n",
       "      <td>102</td>\n",
       "      <td>Microeconomic Principles</td>\n",
       "      <td>ONL</td>\n",
       "      <td>44</td>\n",
       "      <td>...</td>\n",
       "      <td>0</td>\n",
       "      <td>1</td>\n",
       "      <td>0</td>\n",
       "      <td>0</td>\n",
       "      <td>0</td>\n",
       "      <td>97</td>\n",
       "      <td>DiIanni, Isaac</td>\n",
       "      <td>371.01</td>\n",
       "      <td>97</td>\n",
       "      <td>3.824845</td>\n",
       "    </tr>\n",
       "    <tr>\n",
       "      <th>1</th>\n",
       "      <td>1</td>\n",
       "      <td>14</td>\n",
       "      <td>2025</td>\n",
       "      <td>Winter</td>\n",
       "      <td>2025-wi</td>\n",
       "      <td>IS</td>\n",
       "      <td>445</td>\n",
       "      <td>Data Visualization</td>\n",
       "      <td>ONL</td>\n",
       "      <td>18</td>\n",
       "      <td>...</td>\n",
       "      <td>0</td>\n",
       "      <td>0</td>\n",
       "      <td>0</td>\n",
       "      <td>0</td>\n",
       "      <td>1</td>\n",
       "      <td>31</td>\n",
       "      <td>Besser, Stephanie</td>\n",
       "      <td>122.67</td>\n",
       "      <td>31</td>\n",
       "      <td>3.957097</td>\n",
       "    </tr>\n",
       "    <tr>\n",
       "      <th>2</th>\n",
       "      <td>2</td>\n",
       "      <td>826</td>\n",
       "      <td>2024</td>\n",
       "      <td>Fall</td>\n",
       "      <td>2024-fa</td>\n",
       "      <td>CS</td>\n",
       "      <td>124</td>\n",
       "      <td>Intro to Computer Science I</td>\n",
       "      <td>OLC</td>\n",
       "      <td>0</td>\n",
       "      <td>...</td>\n",
       "      <td>0</td>\n",
       "      <td>16</td>\n",
       "      <td>0</td>\n",
       "      <td>34</td>\n",
       "      <td>16</td>\n",
       "      <td>1107</td>\n",
       "      <td>Challen, Geoffrey</td>\n",
       "      <td>4033.21</td>\n",
       "      <td>1107</td>\n",
       "      <td>3.643369</td>\n",
       "    </tr>\n",
       "    <tr>\n",
       "      <th>3</th>\n",
       "      <td>3</td>\n",
       "      <td>1048</td>\n",
       "      <td>2024</td>\n",
       "      <td>Fall</td>\n",
       "      <td>2024-fa</td>\n",
       "      <td>ECON</td>\n",
       "      <td>102</td>\n",
       "      <td>Microeconomic Principles</td>\n",
       "      <td>DIS</td>\n",
       "      <td>15</td>\n",
       "      <td>...</td>\n",
       "      <td>0</td>\n",
       "      <td>0</td>\n",
       "      <td>0</td>\n",
       "      <td>0</td>\n",
       "      <td>0</td>\n",
       "      <td>48</td>\n",
       "      <td>Cueva Chavez, Ronald</td>\n",
       "      <td>163.69</td>\n",
       "      <td>48</td>\n",
       "      <td>3.410208</td>\n",
       "    </tr>\n",
       "    <tr>\n",
       "      <th>4</th>\n",
       "      <td>4</td>\n",
       "      <td>1049</td>\n",
       "      <td>2024</td>\n",
       "      <td>Fall</td>\n",
       "      <td>2024-fa</td>\n",
       "      <td>ECON</td>\n",
       "      <td>102</td>\n",
       "      <td>Microeconomic Principles</td>\n",
       "      <td>DIS</td>\n",
       "      <td>7</td>\n",
       "      <td>...</td>\n",
       "      <td>0</td>\n",
       "      <td>0</td>\n",
       "      <td>0</td>\n",
       "      <td>0</td>\n",
       "      <td>0</td>\n",
       "      <td>48</td>\n",
       "      <td>Cueva Chavez, Ronald</td>\n",
       "      <td>162.35</td>\n",
       "      <td>48</td>\n",
       "      <td>3.382292</td>\n",
       "    </tr>\n",
       "    <tr>\n",
       "      <th>...</th>\n",
       "      <td>...</td>\n",
       "      <td>...</td>\n",
       "      <td>...</td>\n",
       "      <td>...</td>\n",
       "      <td>...</td>\n",
       "      <td>...</td>\n",
       "      <td>...</td>\n",
       "      <td>...</td>\n",
       "      <td>...</td>\n",
       "      <td>...</td>\n",
       "      <td>...</td>\n",
       "      <td>...</td>\n",
       "      <td>...</td>\n",
       "      <td>...</td>\n",
       "      <td>...</td>\n",
       "      <td>...</td>\n",
       "      <td>...</td>\n",
       "      <td>...</td>\n",
       "      <td>...</td>\n",
       "      <td>...</td>\n",
       "      <td>...</td>\n",
       "    </tr>\n",
       "    <tr>\n",
       "      <th>1145</th>\n",
       "      <td>1145</td>\n",
       "      <td>73625</td>\n",
       "      <td>2010</td>\n",
       "      <td>Spring</td>\n",
       "      <td>2010-sp</td>\n",
       "      <td>MATH</td>\n",
       "      <td>231</td>\n",
       "      <td>Calculus II</td>\n",
       "      <td>LCD</td>\n",
       "      <td>2</td>\n",
       "      <td>...</td>\n",
       "      <td>0</td>\n",
       "      <td>3</td>\n",
       "      <td>2</td>\n",
       "      <td>0</td>\n",
       "      <td>0</td>\n",
       "      <td>24</td>\n",
       "      <td>Szuta, Patryk</td>\n",
       "      <td>67.69</td>\n",
       "      <td>24</td>\n",
       "      <td>2.820417</td>\n",
       "    </tr>\n",
       "    <tr>\n",
       "      <th>1146</th>\n",
       "      <td>1146</td>\n",
       "      <td>73626</td>\n",
       "      <td>2010</td>\n",
       "      <td>Spring</td>\n",
       "      <td>2010-sp</td>\n",
       "      <td>MATH</td>\n",
       "      <td>231</td>\n",
       "      <td>Calculus II</td>\n",
       "      <td>LCD</td>\n",
       "      <td>0</td>\n",
       "      <td>...</td>\n",
       "      <td>0</td>\n",
       "      <td>0</td>\n",
       "      <td>0</td>\n",
       "      <td>1</td>\n",
       "      <td>1</td>\n",
       "      <td>22</td>\n",
       "      <td>Solie, Brent</td>\n",
       "      <td>63.67</td>\n",
       "      <td>22</td>\n",
       "      <td>2.894091</td>\n",
       "    </tr>\n",
       "    <tr>\n",
       "      <th>1147</th>\n",
       "      <td>1147</td>\n",
       "      <td>74488</td>\n",
       "      <td>2010</td>\n",
       "      <td>Summer</td>\n",
       "      <td>2010-su</td>\n",
       "      <td>ECON</td>\n",
       "      <td>102</td>\n",
       "      <td>Microeconomic Principles</td>\n",
       "      <td>LCD</td>\n",
       "      <td>0</td>\n",
       "      <td>...</td>\n",
       "      <td>1</td>\n",
       "      <td>0</td>\n",
       "      <td>0</td>\n",
       "      <td>0</td>\n",
       "      <td>0</td>\n",
       "      <td>33</td>\n",
       "      <td>Vazquez, Jose</td>\n",
       "      <td>103.70</td>\n",
       "      <td>33</td>\n",
       "      <td>3.142424</td>\n",
       "    </tr>\n",
       "    <tr>\n",
       "      <th>1148</th>\n",
       "      <td>1148</td>\n",
       "      <td>74489</td>\n",
       "      <td>2010</td>\n",
       "      <td>Summer</td>\n",
       "      <td>2010-su</td>\n",
       "      <td>ECON</td>\n",
       "      <td>102</td>\n",
       "      <td>Microeconomic Principles</td>\n",
       "      <td>LCD</td>\n",
       "      <td>1</td>\n",
       "      <td>...</td>\n",
       "      <td>0</td>\n",
       "      <td>1</td>\n",
       "      <td>0</td>\n",
       "      <td>0</td>\n",
       "      <td>0</td>\n",
       "      <td>26</td>\n",
       "      <td>Arvin-Rad, Hassan</td>\n",
       "      <td>79.02</td>\n",
       "      <td>26</td>\n",
       "      <td>3.039231</td>\n",
       "    </tr>\n",
       "    <tr>\n",
       "      <th>1149</th>\n",
       "      <td>1149</td>\n",
       "      <td>74490</td>\n",
       "      <td>2010</td>\n",
       "      <td>Summer</td>\n",
       "      <td>2010-su</td>\n",
       "      <td>ECON</td>\n",
       "      <td>102</td>\n",
       "      <td>Microeconomic Principles</td>\n",
       "      <td>ONL</td>\n",
       "      <td>2</td>\n",
       "      <td>...</td>\n",
       "      <td>2</td>\n",
       "      <td>2</td>\n",
       "      <td>1</td>\n",
       "      <td>5</td>\n",
       "      <td>1</td>\n",
       "      <td>74</td>\n",
       "      <td>Vazquez, Jose</td>\n",
       "      <td>194.37</td>\n",
       "      <td>74</td>\n",
       "      <td>2.626622</td>\n",
       "    </tr>\n",
       "  </tbody>\n",
       "</table>\n",
       "<p>1150 rows × 28 columns</p>\n",
       "</div>"
      ],
      "text/plain": [
       "      Unnamed: 0.1  Unnamed: 0  Year    Term YearTerm Subject  Number  \\\n",
       "0                0          10  2025  Winter  2025-wi    ECON     102   \n",
       "1                1          14  2025  Winter  2025-wi      IS     445   \n",
       "2                2         826  2024    Fall  2024-fa      CS     124   \n",
       "3                3        1048  2024    Fall  2024-fa    ECON     102   \n",
       "4                4        1049  2024    Fall  2024-fa    ECON     102   \n",
       "...            ...         ...   ...     ...      ...     ...     ...   \n",
       "1145          1145       73625  2010  Spring  2010-sp    MATH     231   \n",
       "1146          1146       73626  2010  Spring  2010-sp    MATH     231   \n",
       "1147          1147       74488  2010  Summer  2010-su    ECON     102   \n",
       "1148          1148       74489  2010  Summer  2010-su    ECON     102   \n",
       "1149          1149       74490  2010  Summer  2010-su    ECON     102   \n",
       "\n",
       "                     Course Title Sched Type  A+  ...  D+   D  D-   F   W  \\\n",
       "0        Microeconomic Principles        ONL  44  ...   0   1   0   0   0   \n",
       "1              Data Visualization        ONL  18  ...   0   0   0   0   1   \n",
       "2     Intro to Computer Science I        OLC   0  ...   0  16   0  34  16   \n",
       "3        Microeconomic Principles        DIS  15  ...   0   0   0   0   0   \n",
       "4        Microeconomic Principles        DIS   7  ...   0   0   0   0   0   \n",
       "...                           ...        ...  ..  ...  ..  ..  ..  ..  ..   \n",
       "1145                  Calculus II        LCD   2  ...   0   3   2   0   0   \n",
       "1146                  Calculus II        LCD   0  ...   0   0   0   1   1   \n",
       "1147     Microeconomic Principles        LCD   0  ...   1   0   0   0   0   \n",
       "1148     Microeconomic Principles        LCD   1  ...   0   1   0   0   0   \n",
       "1149     Microeconomic Principles        ONL   2  ...   2   2   1   5   1   \n",
       "\n",
       "      Students    Primary Instructor  Total_Grade_Points  Total_Students  \\\n",
       "0           97        DiIanni, Isaac              371.01              97   \n",
       "1           31     Besser, Stephanie              122.67              31   \n",
       "2         1107     Challen, Geoffrey             4033.21            1107   \n",
       "3           48  Cueva Chavez, Ronald              163.69              48   \n",
       "4           48  Cueva Chavez, Ronald              162.35              48   \n",
       "...        ...                   ...                 ...             ...   \n",
       "1145        24         Szuta, Patryk               67.69              24   \n",
       "1146        22          Solie, Brent               63.67              22   \n",
       "1147        33         Vazquez, Jose              103.70              33   \n",
       "1148        26     Arvin-Rad, Hassan               79.02              26   \n",
       "1149        74         Vazquez, Jose              194.37              74   \n",
       "\n",
       "      Overall_GPA  \n",
       "0        3.824845  \n",
       "1        3.957097  \n",
       "2        3.643369  \n",
       "3        3.410208  \n",
       "4        3.382292  \n",
       "...           ...  \n",
       "1145     2.820417  \n",
       "1146     2.894091  \n",
       "1147     3.142424  \n",
       "1148     3.039231  \n",
       "1149     2.626622  \n",
       "\n",
       "[1150 rows x 28 columns]"
      ]
     },
     "execution_count": 197,
     "metadata": {},
     "output_type": "execute_result"
    }
   ],
   "source": [
    "dirty = pd.read_csv('datasets/gpa_filtered.csv')\n",
    "dirty"
   ]
  },
  {
   "cell_type": "code",
   "execution_count": 198,
   "metadata": {},
   "outputs": [
    {
     "data": {
      "text/html": [
       "<div>\n",
       "<style scoped>\n",
       "    .dataframe tbody tr th:only-of-type {\n",
       "        vertical-align: middle;\n",
       "    }\n",
       "\n",
       "    .dataframe tbody tr th {\n",
       "        vertical-align: top;\n",
       "    }\n",
       "\n",
       "    .dataframe thead th {\n",
       "        text-align: right;\n",
       "    }\n",
       "</style>\n",
       "<table border=\"1\" class=\"dataframe\">\n",
       "  <thead>\n",
       "    <tr style=\"text-align: right;\">\n",
       "      <th></th>\n",
       "      <th>Unnamed: 0.1</th>\n",
       "      <th>Year</th>\n",
       "      <th>Term</th>\n",
       "      <th>YearTerm</th>\n",
       "      <th>Subject</th>\n",
       "      <th>Number</th>\n",
       "      <th>Course Title</th>\n",
       "      <th>Sched Type</th>\n",
       "      <th>A+</th>\n",
       "      <th>A</th>\n",
       "      <th>...</th>\n",
       "      <th>D+</th>\n",
       "      <th>D</th>\n",
       "      <th>D-</th>\n",
       "      <th>F</th>\n",
       "      <th>W</th>\n",
       "      <th>Students</th>\n",
       "      <th>Primary Instructor</th>\n",
       "      <th>Total_Grade_Points</th>\n",
       "      <th>Total_Students</th>\n",
       "      <th>Overall_GPA</th>\n",
       "    </tr>\n",
       "  </thead>\n",
       "  <tbody>\n",
       "    <tr>\n",
       "      <th>0</th>\n",
       "      <td>0</td>\n",
       "      <td>2025</td>\n",
       "      <td>Winter</td>\n",
       "      <td>2025-wi</td>\n",
       "      <td>ECON</td>\n",
       "      <td>102</td>\n",
       "      <td>Microeconomic Principles</td>\n",
       "      <td>ONL</td>\n",
       "      <td>44</td>\n",
       "      <td>29</td>\n",
       "      <td>...</td>\n",
       "      <td>0</td>\n",
       "      <td>1</td>\n",
       "      <td>0</td>\n",
       "      <td>0</td>\n",
       "      <td>0</td>\n",
       "      <td>97</td>\n",
       "      <td>DiIanni, Isaac</td>\n",
       "      <td>371.01</td>\n",
       "      <td>97</td>\n",
       "      <td>3.824845</td>\n",
       "    </tr>\n",
       "    <tr>\n",
       "      <th>1</th>\n",
       "      <td>1</td>\n",
       "      <td>2025</td>\n",
       "      <td>Winter</td>\n",
       "      <td>2025-wi</td>\n",
       "      <td>IS</td>\n",
       "      <td>445</td>\n",
       "      <td>Data Visualization</td>\n",
       "      <td>ONL</td>\n",
       "      <td>18</td>\n",
       "      <td>11</td>\n",
       "      <td>...</td>\n",
       "      <td>0</td>\n",
       "      <td>0</td>\n",
       "      <td>0</td>\n",
       "      <td>0</td>\n",
       "      <td>1</td>\n",
       "      <td>31</td>\n",
       "      <td>Besser, Stephanie</td>\n",
       "      <td>122.67</td>\n",
       "      <td>31</td>\n",
       "      <td>3.957097</td>\n",
       "    </tr>\n",
       "    <tr>\n",
       "      <th>2</th>\n",
       "      <td>2</td>\n",
       "      <td>2024</td>\n",
       "      <td>Fall</td>\n",
       "      <td>2024-fa</td>\n",
       "      <td>CS</td>\n",
       "      <td>124</td>\n",
       "      <td>Intro to Computer Science I</td>\n",
       "      <td>OLC</td>\n",
       "      <td>0</td>\n",
       "      <td>819</td>\n",
       "      <td>...</td>\n",
       "      <td>0</td>\n",
       "      <td>16</td>\n",
       "      <td>0</td>\n",
       "      <td>34</td>\n",
       "      <td>16</td>\n",
       "      <td>1107</td>\n",
       "      <td>Challen, Geoffrey</td>\n",
       "      <td>4033.21</td>\n",
       "      <td>1107</td>\n",
       "      <td>3.643369</td>\n",
       "    </tr>\n",
       "    <tr>\n",
       "      <th>3</th>\n",
       "      <td>3</td>\n",
       "      <td>2024</td>\n",
       "      <td>Fall</td>\n",
       "      <td>2024-fa</td>\n",
       "      <td>ECON</td>\n",
       "      <td>102</td>\n",
       "      <td>Microeconomic Principles</td>\n",
       "      <td>DIS</td>\n",
       "      <td>15</td>\n",
       "      <td>10</td>\n",
       "      <td>...</td>\n",
       "      <td>0</td>\n",
       "      <td>0</td>\n",
       "      <td>0</td>\n",
       "      <td>0</td>\n",
       "      <td>0</td>\n",
       "      <td>48</td>\n",
       "      <td>Cueva Chavez, Ronald</td>\n",
       "      <td>163.69</td>\n",
       "      <td>48</td>\n",
       "      <td>3.410208</td>\n",
       "    </tr>\n",
       "    <tr>\n",
       "      <th>4</th>\n",
       "      <td>4</td>\n",
       "      <td>2024</td>\n",
       "      <td>Fall</td>\n",
       "      <td>2024-fa</td>\n",
       "      <td>ECON</td>\n",
       "      <td>102</td>\n",
       "      <td>Microeconomic Principles</td>\n",
       "      <td>DIS</td>\n",
       "      <td>7</td>\n",
       "      <td>13</td>\n",
       "      <td>...</td>\n",
       "      <td>0</td>\n",
       "      <td>0</td>\n",
       "      <td>0</td>\n",
       "      <td>0</td>\n",
       "      <td>0</td>\n",
       "      <td>48</td>\n",
       "      <td>Cueva Chavez, Ronald</td>\n",
       "      <td>162.35</td>\n",
       "      <td>48</td>\n",
       "      <td>3.382292</td>\n",
       "    </tr>\n",
       "    <tr>\n",
       "      <th>...</th>\n",
       "      <td>...</td>\n",
       "      <td>...</td>\n",
       "      <td>...</td>\n",
       "      <td>...</td>\n",
       "      <td>...</td>\n",
       "      <td>...</td>\n",
       "      <td>...</td>\n",
       "      <td>...</td>\n",
       "      <td>...</td>\n",
       "      <td>...</td>\n",
       "      <td>...</td>\n",
       "      <td>...</td>\n",
       "      <td>...</td>\n",
       "      <td>...</td>\n",
       "      <td>...</td>\n",
       "      <td>...</td>\n",
       "      <td>...</td>\n",
       "      <td>...</td>\n",
       "      <td>...</td>\n",
       "      <td>...</td>\n",
       "      <td>...</td>\n",
       "    </tr>\n",
       "    <tr>\n",
       "      <th>1145</th>\n",
       "      <td>1145</td>\n",
       "      <td>2010</td>\n",
       "      <td>Spring</td>\n",
       "      <td>2010-sp</td>\n",
       "      <td>MATH</td>\n",
       "      <td>231</td>\n",
       "      <td>Calculus II</td>\n",
       "      <td>LCD</td>\n",
       "      <td>2</td>\n",
       "      <td>4</td>\n",
       "      <td>...</td>\n",
       "      <td>0</td>\n",
       "      <td>3</td>\n",
       "      <td>2</td>\n",
       "      <td>0</td>\n",
       "      <td>0</td>\n",
       "      <td>24</td>\n",
       "      <td>Szuta, Patryk</td>\n",
       "      <td>67.69</td>\n",
       "      <td>24</td>\n",
       "      <td>2.820417</td>\n",
       "    </tr>\n",
       "    <tr>\n",
       "      <th>1146</th>\n",
       "      <td>1146</td>\n",
       "      <td>2010</td>\n",
       "      <td>Spring</td>\n",
       "      <td>2010-sp</td>\n",
       "      <td>MATH</td>\n",
       "      <td>231</td>\n",
       "      <td>Calculus II</td>\n",
       "      <td>LCD</td>\n",
       "      <td>0</td>\n",
       "      <td>3</td>\n",
       "      <td>...</td>\n",
       "      <td>0</td>\n",
       "      <td>0</td>\n",
       "      <td>0</td>\n",
       "      <td>1</td>\n",
       "      <td>1</td>\n",
       "      <td>22</td>\n",
       "      <td>Solie, Brent</td>\n",
       "      <td>63.67</td>\n",
       "      <td>22</td>\n",
       "      <td>2.894091</td>\n",
       "    </tr>\n",
       "    <tr>\n",
       "      <th>1147</th>\n",
       "      <td>1147</td>\n",
       "      <td>2010</td>\n",
       "      <td>Summer</td>\n",
       "      <td>2010-su</td>\n",
       "      <td>ECON</td>\n",
       "      <td>102</td>\n",
       "      <td>Microeconomic Principles</td>\n",
       "      <td>LCD</td>\n",
       "      <td>0</td>\n",
       "      <td>8</td>\n",
       "      <td>...</td>\n",
       "      <td>1</td>\n",
       "      <td>0</td>\n",
       "      <td>0</td>\n",
       "      <td>0</td>\n",
       "      <td>0</td>\n",
       "      <td>33</td>\n",
       "      <td>Vazquez, Jose</td>\n",
       "      <td>103.70</td>\n",
       "      <td>33</td>\n",
       "      <td>3.142424</td>\n",
       "    </tr>\n",
       "    <tr>\n",
       "      <th>1148</th>\n",
       "      <td>1148</td>\n",
       "      <td>2010</td>\n",
       "      <td>Summer</td>\n",
       "      <td>2010-su</td>\n",
       "      <td>ECON</td>\n",
       "      <td>102</td>\n",
       "      <td>Microeconomic Principles</td>\n",
       "      <td>LCD</td>\n",
       "      <td>1</td>\n",
       "      <td>4</td>\n",
       "      <td>...</td>\n",
       "      <td>0</td>\n",
       "      <td>1</td>\n",
       "      <td>0</td>\n",
       "      <td>0</td>\n",
       "      <td>0</td>\n",
       "      <td>26</td>\n",
       "      <td>Arvin-Rad, Hassan</td>\n",
       "      <td>79.02</td>\n",
       "      <td>26</td>\n",
       "      <td>3.039231</td>\n",
       "    </tr>\n",
       "    <tr>\n",
       "      <th>1149</th>\n",
       "      <td>1149</td>\n",
       "      <td>2010</td>\n",
       "      <td>Summer</td>\n",
       "      <td>2010-su</td>\n",
       "      <td>ECON</td>\n",
       "      <td>102</td>\n",
       "      <td>Microeconomic Principles</td>\n",
       "      <td>ONL</td>\n",
       "      <td>2</td>\n",
       "      <td>3</td>\n",
       "      <td>...</td>\n",
       "      <td>2</td>\n",
       "      <td>2</td>\n",
       "      <td>1</td>\n",
       "      <td>5</td>\n",
       "      <td>1</td>\n",
       "      <td>74</td>\n",
       "      <td>Vazquez, Jose</td>\n",
       "      <td>194.37</td>\n",
       "      <td>74</td>\n",
       "      <td>2.626622</td>\n",
       "    </tr>\n",
       "  </tbody>\n",
       "</table>\n",
       "<p>1150 rows × 27 columns</p>\n",
       "</div>"
      ],
      "text/plain": [
       "      Unnamed: 0.1  Year    Term YearTerm Subject  Number  \\\n",
       "0                0  2025  Winter  2025-wi    ECON     102   \n",
       "1                1  2025  Winter  2025-wi      IS     445   \n",
       "2                2  2024    Fall  2024-fa      CS     124   \n",
       "3                3  2024    Fall  2024-fa    ECON     102   \n",
       "4                4  2024    Fall  2024-fa    ECON     102   \n",
       "...            ...   ...     ...      ...     ...     ...   \n",
       "1145          1145  2010  Spring  2010-sp    MATH     231   \n",
       "1146          1146  2010  Spring  2010-sp    MATH     231   \n",
       "1147          1147  2010  Summer  2010-su    ECON     102   \n",
       "1148          1148  2010  Summer  2010-su    ECON     102   \n",
       "1149          1149  2010  Summer  2010-su    ECON     102   \n",
       "\n",
       "                     Course Title Sched Type  A+    A  ...  D+   D  D-   F  \\\n",
       "0        Microeconomic Principles        ONL  44   29  ...   0   1   0   0   \n",
       "1              Data Visualization        ONL  18   11  ...   0   0   0   0   \n",
       "2     Intro to Computer Science I        OLC   0  819  ...   0  16   0  34   \n",
       "3        Microeconomic Principles        DIS  15   10  ...   0   0   0   0   \n",
       "4        Microeconomic Principles        DIS   7   13  ...   0   0   0   0   \n",
       "...                           ...        ...  ..  ...  ...  ..  ..  ..  ..   \n",
       "1145                  Calculus II        LCD   2    4  ...   0   3   2   0   \n",
       "1146                  Calculus II        LCD   0    3  ...   0   0   0   1   \n",
       "1147     Microeconomic Principles        LCD   0    8  ...   1   0   0   0   \n",
       "1148     Microeconomic Principles        LCD   1    4  ...   0   1   0   0   \n",
       "1149     Microeconomic Principles        ONL   2    3  ...   2   2   1   5   \n",
       "\n",
       "       W  Students    Primary Instructor  Total_Grade_Points  Total_Students  \\\n",
       "0      0        97        DiIanni, Isaac              371.01              97   \n",
       "1      1        31     Besser, Stephanie              122.67              31   \n",
       "2     16      1107     Challen, Geoffrey             4033.21            1107   \n",
       "3      0        48  Cueva Chavez, Ronald              163.69              48   \n",
       "4      0        48  Cueva Chavez, Ronald              162.35              48   \n",
       "...   ..       ...                   ...                 ...             ...   \n",
       "1145   0        24         Szuta, Patryk               67.69              24   \n",
       "1146   1        22          Solie, Brent               63.67              22   \n",
       "1147   0        33         Vazquez, Jose              103.70              33   \n",
       "1148   0        26     Arvin-Rad, Hassan               79.02              26   \n",
       "1149   1        74         Vazquez, Jose              194.37              74   \n",
       "\n",
       "      Overall_GPA  \n",
       "0        3.824845  \n",
       "1        3.957097  \n",
       "2        3.643369  \n",
       "3        3.410208  \n",
       "4        3.382292  \n",
       "...           ...  \n",
       "1145     2.820417  \n",
       "1146     2.894091  \n",
       "1147     3.142424  \n",
       "1148     3.039231  \n",
       "1149     2.626622  \n",
       "\n",
       "[1150 rows x 27 columns]"
      ]
     },
     "execution_count": 198,
     "metadata": {},
     "output_type": "execute_result"
    }
   ],
   "source": [
    "dirty = dirty.drop('Unnamed: 0', axis=1)\n",
    "dirty"
   ]
  },
  {
   "cell_type": "code",
   "execution_count": 199,
   "metadata": {},
   "outputs": [
    {
     "data": {
      "text/html": [
       "<div>\n",
       "<style scoped>\n",
       "    .dataframe tbody tr th:only-of-type {\n",
       "        vertical-align: middle;\n",
       "    }\n",
       "\n",
       "    .dataframe tbody tr th {\n",
       "        vertical-align: top;\n",
       "    }\n",
       "\n",
       "    .dataframe thead th {\n",
       "        text-align: right;\n",
       "    }\n",
       "</style>\n",
       "<table border=\"1\" class=\"dataframe\">\n",
       "  <thead>\n",
       "    <tr style=\"text-align: right;\">\n",
       "      <th></th>\n",
       "      <th>primary_instructor</th>\n",
       "      <th>course_title</th>\n",
       "      <th>simple_gpa</th>\n",
       "      <th>total_grade_points</th>\n",
       "      <th>total_students</th>\n",
       "      <th>weighted_gpa</th>\n",
       "    </tr>\n",
       "  </thead>\n",
       "  <tbody>\n",
       "    <tr>\n",
       "      <th>0</th>\n",
       "      <td>Agirdas, Cagdas</td>\n",
       "      <td>Microeconomic Principles</td>\n",
       "      <td>3.101918</td>\n",
       "      <td>434.09</td>\n",
       "      <td>140</td>\n",
       "      <td>3.100643</td>\n",
       "    </tr>\n",
       "    <tr>\n",
       "      <th>1</th>\n",
       "      <td>Ahlgren, Scott</td>\n",
       "      <td>Calculus II</td>\n",
       "      <td>2.887670</td>\n",
       "      <td>3800.26</td>\n",
       "      <td>1369</td>\n",
       "      <td>2.775939</td>\n",
       "    </tr>\n",
       "    <tr>\n",
       "      <th>2</th>\n",
       "      <td>Ahmed, Iftikhar</td>\n",
       "      <td>Calculus II</td>\n",
       "      <td>2.667727</td>\n",
       "      <td>58.69</td>\n",
       "      <td>22</td>\n",
       "      <td>2.667727</td>\n",
       "    </tr>\n",
       "    <tr>\n",
       "      <th>3</th>\n",
       "      <td>Albin, Pierre</td>\n",
       "      <td>Calculus II</td>\n",
       "      <td>2.857759</td>\n",
       "      <td>828.75</td>\n",
       "      <td>290</td>\n",
       "      <td>2.857759</td>\n",
       "    </tr>\n",
       "    <tr>\n",
       "      <th>4</th>\n",
       "      <td>Ambardar, Shivangi</td>\n",
       "      <td>Microeconomic Principles</td>\n",
       "      <td>3.239827</td>\n",
       "      <td>1283.75</td>\n",
       "      <td>396</td>\n",
       "      <td>3.241793</td>\n",
       "    </tr>\n",
       "    <tr>\n",
       "      <th>...</th>\n",
       "      <td>...</td>\n",
       "      <td>...</td>\n",
       "      <td>...</td>\n",
       "      <td>...</td>\n",
       "      <td>...</td>\n",
       "      <td>...</td>\n",
       "    </tr>\n",
       "    <tr>\n",
       "      <th>195</th>\n",
       "      <td>Yu, Yueyuan</td>\n",
       "      <td>Microeconomic Principles</td>\n",
       "      <td>3.026555</td>\n",
       "      <td>746.64</td>\n",
       "      <td>241</td>\n",
       "      <td>3.098091</td>\n",
       "    </tr>\n",
       "    <tr>\n",
       "      <th>196</th>\n",
       "      <td>Zhang, Cong</td>\n",
       "      <td>Microeconomic Principles</td>\n",
       "      <td>3.243892</td>\n",
       "      <td>1402.52</td>\n",
       "      <td>432</td>\n",
       "      <td>3.246574</td>\n",
       "    </tr>\n",
       "    <tr>\n",
       "      <th>197</th>\n",
       "      <td>Zharnitsky, Vadim</td>\n",
       "      <td>Calculus II</td>\n",
       "      <td>2.717079</td>\n",
       "      <td>1906.83</td>\n",
       "      <td>700</td>\n",
       "      <td>2.724043</td>\n",
       "    </tr>\n",
       "    <tr>\n",
       "      <th>198</th>\n",
       "      <td>Zubareva, Daria</td>\n",
       "      <td>Microeconomic Principles</td>\n",
       "      <td>2.942513</td>\n",
       "      <td>226.70</td>\n",
       "      <td>77</td>\n",
       "      <td>2.944156</td>\n",
       "    </tr>\n",
       "    <tr>\n",
       "      <th>199</th>\n",
       "      <td>de Mello, Euler</td>\n",
       "      <td>Microeconomic Principles</td>\n",
       "      <td>3.096581</td>\n",
       "      <td>341.00</td>\n",
       "      <td>110</td>\n",
       "      <td>3.100000</td>\n",
       "    </tr>\n",
       "  </tbody>\n",
       "</table>\n",
       "<p>200 rows × 6 columns</p>\n",
       "</div>"
      ],
      "text/plain": [
       "     primary_instructor              course_title  simple_gpa  \\\n",
       "0       Agirdas, Cagdas  Microeconomic Principles    3.101918   \n",
       "1        Ahlgren, Scott               Calculus II    2.887670   \n",
       "2       Ahmed, Iftikhar               Calculus II    2.667727   \n",
       "3         Albin, Pierre               Calculus II    2.857759   \n",
       "4    Ambardar, Shivangi  Microeconomic Principles    3.239827   \n",
       "..                  ...                       ...         ...   \n",
       "195         Yu, Yueyuan  Microeconomic Principles    3.026555   \n",
       "196         Zhang, Cong  Microeconomic Principles    3.243892   \n",
       "197   Zharnitsky, Vadim               Calculus II    2.717079   \n",
       "198     Zubareva, Daria  Microeconomic Principles    2.942513   \n",
       "199     de Mello, Euler  Microeconomic Principles    3.096581   \n",
       "\n",
       "     total_grade_points  total_students  weighted_gpa  \n",
       "0                434.09             140      3.100643  \n",
       "1               3800.26            1369      2.775939  \n",
       "2                 58.69              22      2.667727  \n",
       "3                828.75             290      2.857759  \n",
       "4               1283.75             396      3.241793  \n",
       "..                  ...             ...           ...  \n",
       "195              746.64             241      3.098091  \n",
       "196             1402.52             432      3.246574  \n",
       "197             1906.83             700      2.724043  \n",
       "198              226.70              77      2.944156  \n",
       "199              341.00             110      3.100000  \n",
       "\n",
       "[200 rows x 6 columns]"
      ]
     },
     "execution_count": 199,
     "metadata": {},
     "output_type": "execute_result"
    }
   ],
   "source": [
    "grouped = (dirty.groupby(['Primary Instructor', 'Course Title'], as_index=False).agg(\n",
    "        simple_gpa=('Overall_GPA', 'mean'),\n",
    "        total_grade_points=('Total_Grade_Points', 'sum'),\n",
    "        total_students=('Total_Students', 'sum')\n",
    "    )\n",
    ")\n",
    "grouped['weighted_gpa'] = grouped['total_grade_points'] / grouped['total_students']\n",
    "grouped = grouped.rename(columns={'Primary Instructor' : 'primary_instructor', 'Course Title' : 'course_title'})\n",
    "grouped"
   ]
  },
  {
   "cell_type": "code",
   "execution_count": 200,
   "metadata": {},
   "outputs": [
    {
     "data": {
      "text/html": [
       "<div>\n",
       "<style scoped>\n",
       "    .dataframe tbody tr th:only-of-type {\n",
       "        vertical-align: middle;\n",
       "    }\n",
       "\n",
       "    .dataframe tbody tr th {\n",
       "        vertical-align: top;\n",
       "    }\n",
       "\n",
       "    .dataframe thead th {\n",
       "        text-align: right;\n",
       "    }\n",
       "</style>\n",
       "<table border=\"1\" class=\"dataframe\">\n",
       "  <thead>\n",
       "    <tr style=\"text-align: right;\">\n",
       "      <th></th>\n",
       "      <th>primary_instructor</th>\n",
       "      <th>course_title</th>\n",
       "      <th>simple_gpa</th>\n",
       "      <th>total_grade_points</th>\n",
       "      <th>total_students</th>\n",
       "      <th>weighted_gpa</th>\n",
       "    </tr>\n",
       "  </thead>\n",
       "  <tbody>\n",
       "    <tr>\n",
       "      <th>0</th>\n",
       "      <td>Cagdas Agirdas</td>\n",
       "      <td>Microeconomic Principles</td>\n",
       "      <td>3.101918</td>\n",
       "      <td>434.09</td>\n",
       "      <td>140</td>\n",
       "      <td>3.100643</td>\n",
       "    </tr>\n",
       "    <tr>\n",
       "      <th>1</th>\n",
       "      <td>Scott Ahlgren</td>\n",
       "      <td>Calculus II</td>\n",
       "      <td>2.887670</td>\n",
       "      <td>3800.26</td>\n",
       "      <td>1369</td>\n",
       "      <td>2.775939</td>\n",
       "    </tr>\n",
       "    <tr>\n",
       "      <th>2</th>\n",
       "      <td>Iftikhar Ahmed</td>\n",
       "      <td>Calculus II</td>\n",
       "      <td>2.667727</td>\n",
       "      <td>58.69</td>\n",
       "      <td>22</td>\n",
       "      <td>2.667727</td>\n",
       "    </tr>\n",
       "    <tr>\n",
       "      <th>3</th>\n",
       "      <td>Pierre Albin</td>\n",
       "      <td>Calculus II</td>\n",
       "      <td>2.857759</td>\n",
       "      <td>828.75</td>\n",
       "      <td>290</td>\n",
       "      <td>2.857759</td>\n",
       "    </tr>\n",
       "    <tr>\n",
       "      <th>4</th>\n",
       "      <td>Shivangi Ambardar</td>\n",
       "      <td>Microeconomic Principles</td>\n",
       "      <td>3.239827</td>\n",
       "      <td>1283.75</td>\n",
       "      <td>396</td>\n",
       "      <td>3.241793</td>\n",
       "    </tr>\n",
       "    <tr>\n",
       "      <th>...</th>\n",
       "      <td>...</td>\n",
       "      <td>...</td>\n",
       "      <td>...</td>\n",
       "      <td>...</td>\n",
       "      <td>...</td>\n",
       "      <td>...</td>\n",
       "    </tr>\n",
       "    <tr>\n",
       "      <th>195</th>\n",
       "      <td>Yueyuan Yu</td>\n",
       "      <td>Microeconomic Principles</td>\n",
       "      <td>3.026555</td>\n",
       "      <td>746.64</td>\n",
       "      <td>241</td>\n",
       "      <td>3.098091</td>\n",
       "    </tr>\n",
       "    <tr>\n",
       "      <th>196</th>\n",
       "      <td>Cong Zhang</td>\n",
       "      <td>Microeconomic Principles</td>\n",
       "      <td>3.243892</td>\n",
       "      <td>1402.52</td>\n",
       "      <td>432</td>\n",
       "      <td>3.246574</td>\n",
       "    </tr>\n",
       "    <tr>\n",
       "      <th>197</th>\n",
       "      <td>Vadim Zharnitsky</td>\n",
       "      <td>Calculus II</td>\n",
       "      <td>2.717079</td>\n",
       "      <td>1906.83</td>\n",
       "      <td>700</td>\n",
       "      <td>2.724043</td>\n",
       "    </tr>\n",
       "    <tr>\n",
       "      <th>198</th>\n",
       "      <td>Daria Zubareva</td>\n",
       "      <td>Microeconomic Principles</td>\n",
       "      <td>2.942513</td>\n",
       "      <td>226.70</td>\n",
       "      <td>77</td>\n",
       "      <td>2.944156</td>\n",
       "    </tr>\n",
       "    <tr>\n",
       "      <th>199</th>\n",
       "      <td>Euler de Mello</td>\n",
       "      <td>Microeconomic Principles</td>\n",
       "      <td>3.096581</td>\n",
       "      <td>341.00</td>\n",
       "      <td>110</td>\n",
       "      <td>3.100000</td>\n",
       "    </tr>\n",
       "  </tbody>\n",
       "</table>\n",
       "<p>200 rows × 6 columns</p>\n",
       "</div>"
      ],
      "text/plain": [
       "    primary_instructor              course_title  simple_gpa  \\\n",
       "0       Cagdas Agirdas  Microeconomic Principles    3.101918   \n",
       "1        Scott Ahlgren               Calculus II    2.887670   \n",
       "2       Iftikhar Ahmed               Calculus II    2.667727   \n",
       "3         Pierre Albin               Calculus II    2.857759   \n",
       "4    Shivangi Ambardar  Microeconomic Principles    3.239827   \n",
       "..                 ...                       ...         ...   \n",
       "195         Yueyuan Yu  Microeconomic Principles    3.026555   \n",
       "196         Cong Zhang  Microeconomic Principles    3.243892   \n",
       "197   Vadim Zharnitsky               Calculus II    2.717079   \n",
       "198     Daria Zubareva  Microeconomic Principles    2.942513   \n",
       "199     Euler de Mello  Microeconomic Principles    3.096581   \n",
       "\n",
       "     total_grade_points  total_students  weighted_gpa  \n",
       "0                434.09             140      3.100643  \n",
       "1               3800.26            1369      2.775939  \n",
       "2                 58.69              22      2.667727  \n",
       "3                828.75             290      2.857759  \n",
       "4               1283.75             396      3.241793  \n",
       "..                  ...             ...           ...  \n",
       "195              746.64             241      3.098091  \n",
       "196             1402.52             432      3.246574  \n",
       "197             1906.83             700      2.724043  \n",
       "198              226.70              77      2.944156  \n",
       "199              341.00             110      3.100000  \n",
       "\n",
       "[200 rows x 6 columns]"
      ]
     },
     "execution_count": 200,
     "metadata": {},
     "output_type": "execute_result"
    }
   ],
   "source": [
    "def last_first_to_first_last(name):\n",
    "    parts = [p.strip() for p in name.split(',')]\n",
    "    if len(parts) == 2:\n",
    "        last, first = parts\n",
    "        return f\"{first} {last}\"\n",
    "    return name\n",
    "\n",
    "grouped['primary_instructor'] = grouped['primary_instructor'].apply(last_first_to_first_last)\n",
    "grouped"
   ]
  },
  {
   "cell_type": "code",
   "execution_count": 201,
   "metadata": {},
   "outputs": [
    {
     "data": {
      "text/html": [
       "<div>\n",
       "<style scoped>\n",
       "    .dataframe tbody tr th:only-of-type {\n",
       "        vertical-align: middle;\n",
       "    }\n",
       "\n",
       "    .dataframe tbody tr th {\n",
       "        vertical-align: top;\n",
       "    }\n",
       "\n",
       "    .dataframe thead th {\n",
       "        text-align: right;\n",
       "    }\n",
       "</style>\n",
       "<table border=\"1\" class=\"dataframe\">\n",
       "  <thead>\n",
       "    <tr style=\"text-align: right;\">\n",
       "      <th></th>\n",
       "      <th>primary_instructor</th>\n",
       "      <th>course_title</th>\n",
       "      <th>simple_gpa</th>\n",
       "      <th>total_grade_points</th>\n",
       "      <th>total_students</th>\n",
       "      <th>weighted_gpa</th>\n",
       "    </tr>\n",
       "  </thead>\n",
       "  <tbody>\n",
       "    <tr>\n",
       "      <th>19</th>\n",
       "      <td>Daniel Berwick Evans</td>\n",
       "      <td>Calculus II</td>\n",
       "      <td>2.964776</td>\n",
       "      <td>2843.57</td>\n",
       "      <td>959</td>\n",
       "      <td>2.965141</td>\n",
       "    </tr>\n",
       "    <tr>\n",
       "      <th>74</th>\n",
       "      <td>Daniel Halim</td>\n",
       "      <td>Microeconomic Principles</td>\n",
       "      <td>3.411210</td>\n",
       "      <td>535.65</td>\n",
       "      <td>157</td>\n",
       "      <td>3.411783</td>\n",
       "    </tr>\n",
       "  </tbody>\n",
       "</table>\n",
       "</div>"
      ],
      "text/plain": [
       "      primary_instructor              course_title  simple_gpa  \\\n",
       "19  Daniel Berwick Evans               Calculus II    2.964776   \n",
       "74          Daniel Halim  Microeconomic Principles    3.411210   \n",
       "\n",
       "    total_grade_points  total_students  weighted_gpa  \n",
       "19             2843.57             959      2.965141  \n",
       "74              535.65             157      3.411783  "
      ]
     },
     "execution_count": 201,
     "metadata": {},
     "output_type": "execute_result"
    }
   ],
   "source": [
    "grouped[\n",
    "    grouped['primary_instructor']\n",
    "           .str.contains('Daniel', case=False, na=False)\n",
    "]"
   ]
  },
  {
   "cell_type": "code",
   "execution_count": 202,
   "metadata": {},
   "outputs": [
    {
     "data": {
      "text/plain": [
       "array(['Cagdas Agirdas', 'Scott Ahlgren', 'Iftikhar Ahmed',\n",
       "       'Pierre Albin', 'Shivangi Ambardar', 'Sadra Amiri Moghadam',\n",
       "       'Mateo Arbelaez Parra', 'Hassan Arvin-Rad', 'Deniz Ay',\n",
       "       'Diogo Baerlocher Carv', 'Manijeh Bahreini Esfaha',\n",
       "       'Diloa Bailey Athias', 'Di Bao', 'Yuliy Baryshnikov',\n",
       "       'Riddhasattam Basu', 'Anahid Bauer', 'Jesse Beder',\n",
       "       'Sebastiao Benete Reis De', 'Maarten Bergvelt',\n",
       "       'Daniel Berwick Evans', 'Stephanie Besser', 'Daria Bottan',\n",
       "       'Steven Bradlow', 'Michael Brannan', 'Jared Bronski',\n",
       "       'David Buller', 'Justin Burner', 'Maria Cantet', 'Bruce Carpenter',\n",
       "       'Jiyoung Chae', 'Geoffrey Challen', 'Eui Soon Chang',\n",
       "       'Youning Chen', 'Yuci Chen', 'Zhuo Chen', 'Tzu-Chang Cheng',\n",
       "       'Hee Pyung Cho', 'Jer-Chin Chuang', 'Evangelos Constantinou',\n",
       "       'Diana Cooke', 'Adriana Corredor Waldro', 'Ronald Cueva Chavez',\n",
       "       \"John D'Angelo\", 'Sergio De Holanda Roch', 'Robert DeVille',\n",
       "       'Ethan Dee', 'Keith Dent', 'Isaac DiIanni', 'Felipe Diaz Klaassen',\n",
       "       'Chen Ding', 'Theresa Dobbs', 'Spencer Dowdall', 'Sofiia Dunets',\n",
       "       'Iwan Duursma', 'Rui Fan', 'Chiyuan Fang', 'Abdollah Farhoodi',\n",
       "       'Brian Feld', 'Qinping Feng', 'Santiago Fernandez',\n",
       "       'Karle Flanagan', 'Lena Folwaczny', 'Kevin Ford', 'Ke Gao',\n",
       "       'Xing Gao', 'Rebekah Gilbert', 'Monica Gillis',\n",
       "       'Luke Godwin-Jones', 'Julia Gonzalez', 'Aram Grigoryan', 'Ran Gu',\n",
       "       'Funda Gultepe', 'Meng Guo', 'Rosemary Guzman', 'Daniel Halim',\n",
       "       'Andres Ham Gonzalez', 'Xiaolong Han', 'Yuqing Han',\n",
       "       'Allen Hardiman', 'Jordan Hasler', 'Euijin Hong', 'Yi Huang',\n",
       "       'Christine Jachetta', 'Chitra Jogani', 'Youngjoo Jung',\n",
       "       'Marius Junge', 'Ely Kerman', 'Nazanin Khazra', 'Hee Jin Kim',\n",
       "       'Sarah Kim', 'William Kinnersley', 'Eunhye Kwak',\n",
       "       'Gabriele La Nave', 'Richard Laugesen', 'Felix Leditzky',\n",
       "       'Sangmok Lee', 'Christopher Leininger', 'Zening Li', 'Jian Liang',\n",
       "       'Dan Lior', 'Xinxuan Liu', 'Xinyi Liu', 'Yichen Liu', 'Yingyi Liu',\n",
       "       'Zhiwei Liu', 'Zichang Liu', 'Stephen Longfield', 'Chang Lu',\n",
       "       'Kiran Luecke', 'Ruiyang Ma', 'Sen Ma', 'Jaime Ni Martinez Robles',\n",
       "       'Christos Mavridis', 'Randy McCarthy', 'Grace McCourt',\n",
       "       'Eduardo Medina-Cortina', 'Angelo Mele', 'Joseph Miles',\n",
       "       'Tatiana Mocanu', 'Domininkas Mockus', 'Cristhia Molina Gonzalez',\n",
       "       'Karen Mortensen', 'Sanghee Mun', 'Robert Muncaster',\n",
       "       'Cassie Murley', 'Robert Murphy', 'Jill Naiman', 'Tayyab Nawaz',\n",
       "       'Atul Nepal', 'Ha Khanh Nguyen', 'Igor Nikolaev', 'Namgyoon Oh',\n",
       "       'Timur Oikhberg', 'Ziying Pan', 'Aristote Panagiotopoulos',\n",
       "       'Hye Jin Park', 'Hyunchul Park', 'Paulo Pereira de Mene',\n",
       "       'Sarka Petrickova', 'Collin Philipps', 'Laura Placzek',\n",
       "       'David Quigley', 'Nicolas Quintana Ashwel', 'Blake Riley',\n",
       "       'Francisco Rios', 'Matthew Romney', 'Kang Rong', 'Jeremy Rouse',\n",
       "       'Luis Felipe Saenz Munoz', 'Thomas Sahajdack',\n",
       "       'Mohamadreza Salehi', 'Raul Antonio C Santos',\n",
       "       'Ignacio Sarmiento Barbi', 'Henry Schenck', 'John Schneider',\n",
       "       'Monalisa Sen', 'Dana Shaat', 'Mehrnoush Shahhosseini',\n",
       "       'Rahul Sirohi', 'Takeharu Sogo', 'Brent Solie', 'Jenny Srikant',\n",
       "       'Sunlee Stechuk', 'Lingling Sun', 'Xinhui Sun',\n",
       "       'Wojciech Szewerniak', 'Patryk Szuta', 'Chenxi Tang',\n",
       "       'Ebru Toprak', 'Matthew Turk', 'Salome Tvalodze', 'Jeremy Tyson',\n",
       "       'Andrew Uhe', 'Irina Valenzuela Rami', 'Javid Validashti Dizg',\n",
       "       'Jose Vazquez', 'Theodoros Velentzas', 'Vyron Vellis',\n",
       "       'Shihang Wang', 'Xiaohan Wang', 'Xin Wang', 'Yi Wang',\n",
       "       'Yiqun Wang', 'Hui Wen', 'Argen West', 'Kim Whittlesey', 'Xuan Wu',\n",
       "       'Benjamin Wyser', 'Xiaoying Xie', 'Hui Xu', 'Jianfeng Xu',\n",
       "       'Bei Yang', 'Jie Yang', 'Minh Joo Yi', 'Yueyuan Yu', 'Cong Zhang',\n",
       "       'Vadim Zharnitsky', 'Daria Zubareva', 'Euler de Mello'],\n",
       "      dtype=object)"
      ]
     },
     "execution_count": 202,
     "metadata": {},
     "output_type": "execute_result"
    }
   ],
   "source": [
    "grouped['primary_instructor'].unique()"
   ]
  },
  {
   "cell_type": "code",
   "execution_count": 203,
   "metadata": {},
   "outputs": [
    {
     "data": {
      "text/html": [
       "<div>\n",
       "<style scoped>\n",
       "    .dataframe tbody tr th:only-of-type {\n",
       "        vertical-align: middle;\n",
       "    }\n",
       "\n",
       "    .dataframe tbody tr th {\n",
       "        vertical-align: top;\n",
       "    }\n",
       "\n",
       "    .dataframe thead th {\n",
       "        text-align: right;\n",
       "    }\n",
       "</style>\n",
       "<table border=\"1\" class=\"dataframe\">\n",
       "  <thead>\n",
       "    <tr style=\"text-align: right;\">\n",
       "      <th></th>\n",
       "      <th>Course Number</th>\n",
       "      <th>CRN</th>\n",
       "      <th>Type</th>\n",
       "      <th>Section</th>\n",
       "      <th>Time</th>\n",
       "      <th>Days</th>\n",
       "      <th>Location</th>\n",
       "      <th>Instructor</th>\n",
       "    </tr>\n",
       "  </thead>\n",
       "  <tbody>\n",
       "    <tr>\n",
       "      <th>0</th>\n",
       "      <td>CS 124</td>\n",
       "      <td>74477</td>\n",
       "      <td>Lecture</td>\n",
       "      <td>AL1</td>\n",
       "      <td>ARRANGED</td>\n",
       "      <td>-</td>\n",
       "      <td>-</td>\n",
       "      <td>Challen, G</td>\n",
       "    </tr>\n",
       "    <tr>\n",
       "      <th>1</th>\n",
       "      <td>CS 124</td>\n",
       "      <td>75242</td>\n",
       "      <td>Lecture</td>\n",
       "      <td>AL2</td>\n",
       "      <td>ARRANGED</td>\n",
       "      <td>-</td>\n",
       "      <td>-</td>\n",
       "      <td>Challen, G</td>\n",
       "    </tr>\n",
       "    <tr>\n",
       "      <th>2</th>\n",
       "      <td>CS 124</td>\n",
       "      <td>74481</td>\n",
       "      <td>Lab/Discussion</td>\n",
       "      <td>QBA</td>\n",
       "      <td>10:00 AM - 10:50 AM</td>\n",
       "      <td>T</td>\n",
       "      <td>4025 - Campus Instructional Facility</td>\n",
       "      <td>Challen, G</td>\n",
       "    </tr>\n",
       "    <tr>\n",
       "      <th>3</th>\n",
       "      <td>CS 124</td>\n",
       "      <td>74482</td>\n",
       "      <td>Lab/Discussion</td>\n",
       "      <td>QBB</td>\n",
       "      <td>10:00 AM - 10:50 AM</td>\n",
       "      <td>T</td>\n",
       "      <td>4029 - Campus Instructional Facility</td>\n",
       "      <td>Challen, G</td>\n",
       "    </tr>\n",
       "    <tr>\n",
       "      <th>4</th>\n",
       "      <td>CS 124</td>\n",
       "      <td>74490</td>\n",
       "      <td>Lab/Discussion</td>\n",
       "      <td>QBC</td>\n",
       "      <td>11:00 AM - 11:50 AM</td>\n",
       "      <td>T</td>\n",
       "      <td>4025 - Campus Instructional Facility</td>\n",
       "      <td>Challen, G</td>\n",
       "    </tr>\n",
       "    <tr>\n",
       "      <th>...</th>\n",
       "      <td>...</td>\n",
       "      <td>...</td>\n",
       "      <td>...</td>\n",
       "      <td>...</td>\n",
       "      <td>...</td>\n",
       "      <td>...</td>\n",
       "      <td>...</td>\n",
       "      <td>...</td>\n",
       "    </tr>\n",
       "    <tr>\n",
       "      <th>190</th>\n",
       "      <td>STAT 107</td>\n",
       "      <td>71689</td>\n",
       "      <td>Laboratory-Discussion</td>\n",
       "      <td>Y40</td>\n",
       "      <td>03:30 PM - 04:50 PM</td>\n",
       "      <td>F</td>\n",
       "      <td>313 - Davenport Hall</td>\n",
       "      <td>NaN</td>\n",
       "    </tr>\n",
       "    <tr>\n",
       "      <th>191</th>\n",
       "      <td>STAT 107</td>\n",
       "      <td>78212</td>\n",
       "      <td>Laboratory-Discussion</td>\n",
       "      <td>Y41</td>\n",
       "      <td>03:30 PM - 04:50 PM</td>\n",
       "      <td>F</td>\n",
       "      <td>1136 - Literatures, Cultures, &amp; Ling</td>\n",
       "      <td>NaN</td>\n",
       "    </tr>\n",
       "    <tr>\n",
       "      <th>192</th>\n",
       "      <td>STAT 107</td>\n",
       "      <td>78213</td>\n",
       "      <td>Laboratory-Discussion</td>\n",
       "      <td>Y42</td>\n",
       "      <td>05:00 PM - 06:20 PM</td>\n",
       "      <td>F</td>\n",
       "      <td>313 - Davenport Hall</td>\n",
       "      <td>NaN</td>\n",
       "    </tr>\n",
       "    <tr>\n",
       "      <th>193</th>\n",
       "      <td>STAT 107</td>\n",
       "      <td>78771</td>\n",
       "      <td>Laboratory-Discussion</td>\n",
       "      <td>Y43</td>\n",
       "      <td>05:00 PM - 06:20 PM</td>\n",
       "      <td>F</td>\n",
       "      <td>G32 - Literatures, Cultures, &amp; Ling</td>\n",
       "      <td>NaN</td>\n",
       "    </tr>\n",
       "    <tr>\n",
       "      <th>194</th>\n",
       "      <td>STAT 107</td>\n",
       "      <td>79399</td>\n",
       "      <td>Laboratory-Discussion</td>\n",
       "      <td>Y44</td>\n",
       "      <td>05:00 PM - 06:20 PM</td>\n",
       "      <td>F</td>\n",
       "      <td>312 - Davenport Hall</td>\n",
       "      <td>NaN</td>\n",
       "    </tr>\n",
       "  </tbody>\n",
       "</table>\n",
       "<p>195 rows × 8 columns</p>\n",
       "</div>"
      ],
      "text/plain": [
       "    Course Number    CRN                   Type Section                 Time  \\\n",
       "0          CS 124  74477                Lecture     AL1             ARRANGED   \n",
       "1          CS 124  75242                Lecture     AL2             ARRANGED   \n",
       "2          CS 124  74481         Lab/Discussion     QBA  10:00 AM - 10:50 AM   \n",
       "3          CS 124  74482         Lab/Discussion     QBB  10:00 AM - 10:50 AM   \n",
       "4          CS 124  74490         Lab/Discussion     QBC  11:00 AM - 11:50 AM   \n",
       "..            ...    ...                    ...     ...                  ...   \n",
       "190      STAT 107  71689  Laboratory-Discussion     Y40  03:30 PM - 04:50 PM   \n",
       "191      STAT 107  78212  Laboratory-Discussion     Y41  03:30 PM - 04:50 PM   \n",
       "192      STAT 107  78213  Laboratory-Discussion     Y42  05:00 PM - 06:20 PM   \n",
       "193      STAT 107  78771  Laboratory-Discussion     Y43  05:00 PM - 06:20 PM   \n",
       "194      STAT 107  79399  Laboratory-Discussion     Y44  05:00 PM - 06:20 PM   \n",
       "\n",
       "    Days                              Location  Instructor  \n",
       "0      -                                     -  Challen, G  \n",
       "1      -                                     -  Challen, G  \n",
       "2      T  4025 - Campus Instructional Facility  Challen, G  \n",
       "3      T  4029 - Campus Instructional Facility  Challen, G  \n",
       "4      T  4025 - Campus Instructional Facility  Challen, G  \n",
       "..   ...                                   ...         ...  \n",
       "190    F                  313 - Davenport Hall         NaN  \n",
       "191    F  1136 - Literatures, Cultures, & Ling         NaN  \n",
       "192    F                  313 - Davenport Hall         NaN  \n",
       "193    F   G32 - Literatures, Cultures, & Ling         NaN  \n",
       "194    F                  312 - Davenport Hall         NaN  \n",
       "\n",
       "[195 rows x 8 columns]"
      ]
     },
     "execution_count": 203,
     "metadata": {},
     "output_type": "execute_result"
    }
   ],
   "source": [
    "profs = pd.read_csv('datasets/full_dataset.csv')\n",
    "profs"
   ]
  },
  {
   "cell_type": "code",
   "execution_count": 204,
   "metadata": {},
   "outputs": [
    {
     "data": {
      "text/plain": [
       "array(['Challen, G', 'DiIanni, I', 'Buckley, B', 'Turk, M', 'Naiman, J',\n",
       "       'Bahreini Esfahani, M', 'Hoffmeister, A', 'Bronski, J', nan,\n",
       "       'Chuang, J', 'Berwick Evans, D',\n",
       "       'Fagen-Ulmschneider, W; Flanagan, K'], dtype=object)"
      ]
     },
     "execution_count": 204,
     "metadata": {},
     "output_type": "execute_result"
    }
   ],
   "source": [
    "profs['Instructor'].unique()"
   ]
  },
  {
   "cell_type": "code",
   "execution_count": 205,
   "metadata": {},
   "outputs": [
    {
     "data": {
      "text/plain": [
       "12"
      ]
     },
     "execution_count": 205,
     "metadata": {},
     "output_type": "execute_result"
    }
   ],
   "source": [
    "len(profs['Instructor'].unique())"
   ]
  },
  {
   "cell_type": "code",
   "execution_count": 206,
   "metadata": {},
   "outputs": [
    {
     "data": {
      "text/html": [
       "<div>\n",
       "<style scoped>\n",
       "    .dataframe tbody tr th:only-of-type {\n",
       "        vertical-align: middle;\n",
       "    }\n",
       "\n",
       "    .dataframe tbody tr th {\n",
       "        vertical-align: top;\n",
       "    }\n",
       "\n",
       "    .dataframe thead th {\n",
       "        text-align: right;\n",
       "    }\n",
       "</style>\n",
       "<table border=\"1\" class=\"dataframe\">\n",
       "  <thead>\n",
       "    <tr style=\"text-align: right;\">\n",
       "      <th></th>\n",
       "      <th>primary_instructor</th>\n",
       "      <th>rating</th>\n",
       "      <th>level_of_difficulty</th>\n",
       "      <th>would_take_again</th>\n",
       "      <th>total_ratings</th>\n",
       "    </tr>\n",
       "  </thead>\n",
       "  <tbody>\n",
       "    <tr>\n",
       "      <th>0</th>\n",
       "      <td>Geoffrey Challen</td>\n",
       "      <td>3.3</td>\n",
       "      <td>3.7</td>\n",
       "      <td>0.60</td>\n",
       "      <td>173</td>\n",
       "    </tr>\n",
       "    <tr>\n",
       "      <th>1</th>\n",
       "      <td>Isaac DiIanni</td>\n",
       "      <td>4.4</td>\n",
       "      <td>2.6</td>\n",
       "      <td>0.83</td>\n",
       "      <td>156</td>\n",
       "    </tr>\n",
       "    <tr>\n",
       "      <th>2</th>\n",
       "      <td>Bryan Buckley</td>\n",
       "      <td>3.8</td>\n",
       "      <td>2.9</td>\n",
       "      <td>0.67</td>\n",
       "      <td>94</td>\n",
       "    </tr>\n",
       "    <tr>\n",
       "      <th>3</th>\n",
       "      <td>Manijeh Bahreini Esfaha</td>\n",
       "      <td>3.9</td>\n",
       "      <td>2.9</td>\n",
       "      <td>0.78</td>\n",
       "      <td>49</td>\n",
       "    </tr>\n",
       "    <tr>\n",
       "      <th>4</th>\n",
       "      <td>April Hoffmeister</td>\n",
       "      <td>4.9</td>\n",
       "      <td>2.9</td>\n",
       "      <td>0.99</td>\n",
       "      <td>65</td>\n",
       "    </tr>\n",
       "    <tr>\n",
       "      <th>5</th>\n",
       "      <td>Jared Bronski</td>\n",
       "      <td>4.5</td>\n",
       "      <td>2.8</td>\n",
       "      <td>1.00</td>\n",
       "      <td>79</td>\n",
       "    </tr>\n",
       "    <tr>\n",
       "      <th>6</th>\n",
       "      <td>Jer-Chin Chuang</td>\n",
       "      <td>2.3</td>\n",
       "      <td>4.3</td>\n",
       "      <td>0.30</td>\n",
       "      <td>68</td>\n",
       "    </tr>\n",
       "    <tr>\n",
       "      <th>7</th>\n",
       "      <td>Daniel Berwick Evans</td>\n",
       "      <td>4.1</td>\n",
       "      <td>3.6</td>\n",
       "      <td>0.80</td>\n",
       "      <td>15</td>\n",
       "    </tr>\n",
       "    <tr>\n",
       "      <th>8</th>\n",
       "      <td>Wade Fagen-Ulmschneider</td>\n",
       "      <td>4.6</td>\n",
       "      <td>2.6</td>\n",
       "      <td>0.92</td>\n",
       "      <td>64</td>\n",
       "    </tr>\n",
       "    <tr>\n",
       "      <th>9</th>\n",
       "      <td>Karle Flanagan</td>\n",
       "      <td>4.9</td>\n",
       "      <td>1.9</td>\n",
       "      <td>0.97</td>\n",
       "      <td>252</td>\n",
       "    </tr>\n",
       "  </tbody>\n",
       "</table>\n",
       "</div>"
      ],
      "text/plain": [
       "        primary_instructor  rating  level_of_difficulty  would_take_again  \\\n",
       "0         Geoffrey Challen     3.3                  3.7              0.60   \n",
       "1            Isaac DiIanni     4.4                  2.6              0.83   \n",
       "2            Bryan Buckley     3.8                  2.9              0.67   \n",
       "3  Manijeh Bahreini Esfaha     3.9                  2.9              0.78   \n",
       "4        April Hoffmeister     4.9                  2.9              0.99   \n",
       "5            Jared Bronski     4.5                  2.8              1.00   \n",
       "6          Jer-Chin Chuang     2.3                  4.3              0.30   \n",
       "7     Daniel Berwick Evans     4.1                  3.6              0.80   \n",
       "8  Wade Fagen-Ulmschneider     4.6                  2.6              0.92   \n",
       "9           Karle Flanagan     4.9                  1.9              0.97   \n",
       "\n",
       "   total_ratings  \n",
       "0            173  \n",
       "1            156  \n",
       "2             94  \n",
       "3             49  \n",
       "4             65  \n",
       "5             79  \n",
       "6             68  \n",
       "7             15  \n",
       "8             64  \n",
       "9            252  "
      ]
     },
     "execution_count": 206,
     "metadata": {},
     "output_type": "execute_result"
    }
   ],
   "source": [
    "rmp_data = {\n",
    "    'primary_instructor' : ['Geoffrey Challen', 'Isaac DiIanni', 'Bryan Buckley', \n",
    "                    'Manijeh Bahreini Esfaha', 'April Hoffmeister', 'Jared Bronski', \n",
    "                    'Jer-Chin Chuang', 'Daniel Berwick Evans', 'Wade Fagen-Ulmschneider',\n",
    "                    'Karle Flanagan'], \n",
    "    'rating' : [3.3, 4.4, 3.8, 3.9, 4.9, 4.5, 2.3, 4.1, 4.6, 4.9], \n",
    "    'level_of_difficulty' : [3.7, 2.6, 2.9, 2.9, 2.9, 2.8, 4.3, 3.6, 2.6, 1.9], \n",
    "    'would_take_again' : [0.6, 0.83, 0.67, 0.78, 0.99, 1.0, 0.3, 0.8, 0.92, 0.97], \n",
    "    'total_ratings' : [173, 156, 94, 49, 65, 79, 68, 15, 64, 252]}\n",
    "rmp_df = pd.DataFrame(rmp_data)\n",
    "rmp_df"
   ]
  },
  {
   "cell_type": "code",
   "execution_count": 207,
   "metadata": {},
   "outputs": [
    {
     "data": {
      "text/html": [
       "<div>\n",
       "<style scoped>\n",
       "    .dataframe tbody tr th:only-of-type {\n",
       "        vertical-align: middle;\n",
       "    }\n",
       "\n",
       "    .dataframe tbody tr th {\n",
       "        vertical-align: top;\n",
       "    }\n",
       "\n",
       "    .dataframe thead th {\n",
       "        text-align: right;\n",
       "    }\n",
       "</style>\n",
       "<table border=\"1\" class=\"dataframe\">\n",
       "  <thead>\n",
       "    <tr style=\"text-align: right;\">\n",
       "      <th></th>\n",
       "      <th>primary_instructor</th>\n",
       "      <th>rating</th>\n",
       "      <th>level_of_difficulty</th>\n",
       "      <th>would_take_again</th>\n",
       "      <th>total_ratings</th>\n",
       "      <th>course_title</th>\n",
       "      <th>simple_gpa</th>\n",
       "      <th>total_grade_points</th>\n",
       "      <th>total_students</th>\n",
       "      <th>weighted_gpa</th>\n",
       "    </tr>\n",
       "  </thead>\n",
       "  <tbody>\n",
       "    <tr>\n",
       "      <th>0</th>\n",
       "      <td>Geoffrey Challen</td>\n",
       "      <td>3.3</td>\n",
       "      <td>3.7</td>\n",
       "      <td>0.60</td>\n",
       "      <td>173</td>\n",
       "      <td>Intro to Computer Science I</td>\n",
       "      <td>3.564427</td>\n",
       "      <td>23865.20</td>\n",
       "      <td>6608.0</td>\n",
       "      <td>3.611562</td>\n",
       "    </tr>\n",
       "    <tr>\n",
       "      <th>1</th>\n",
       "      <td>Isaac DiIanni</td>\n",
       "      <td>4.4</td>\n",
       "      <td>2.6</td>\n",
       "      <td>0.83</td>\n",
       "      <td>156</td>\n",
       "      <td>Microeconomic Principles</td>\n",
       "      <td>3.216907</td>\n",
       "      <td>15924.64</td>\n",
       "      <td>4623.0</td>\n",
       "      <td>3.444655</td>\n",
       "    </tr>\n",
       "    <tr>\n",
       "      <th>2</th>\n",
       "      <td>Bryan Buckley</td>\n",
       "      <td>3.8</td>\n",
       "      <td>2.9</td>\n",
       "      <td>0.67</td>\n",
       "      <td>94</td>\n",
       "      <td>NaN</td>\n",
       "      <td>NaN</td>\n",
       "      <td>NaN</td>\n",
       "      <td>NaN</td>\n",
       "      <td>NaN</td>\n",
       "    </tr>\n",
       "    <tr>\n",
       "      <th>3</th>\n",
       "      <td>Manijeh Bahreini Esfaha</td>\n",
       "      <td>3.9</td>\n",
       "      <td>2.9</td>\n",
       "      <td>0.78</td>\n",
       "      <td>49</td>\n",
       "      <td>Calculus II</td>\n",
       "      <td>3.095914</td>\n",
       "      <td>11044.51</td>\n",
       "      <td>3556.0</td>\n",
       "      <td>3.105880</td>\n",
       "    </tr>\n",
       "    <tr>\n",
       "      <th>4</th>\n",
       "      <td>April Hoffmeister</td>\n",
       "      <td>4.9</td>\n",
       "      <td>2.9</td>\n",
       "      <td>0.99</td>\n",
       "      <td>65</td>\n",
       "      <td>NaN</td>\n",
       "      <td>NaN</td>\n",
       "      <td>NaN</td>\n",
       "      <td>NaN</td>\n",
       "      <td>NaN</td>\n",
       "    </tr>\n",
       "    <tr>\n",
       "      <th>5</th>\n",
       "      <td>Jared Bronski</td>\n",
       "      <td>4.5</td>\n",
       "      <td>2.8</td>\n",
       "      <td>1.00</td>\n",
       "      <td>79</td>\n",
       "      <td>Calculus II</td>\n",
       "      <td>2.994208</td>\n",
       "      <td>9527.32</td>\n",
       "      <td>3190.0</td>\n",
       "      <td>2.986621</td>\n",
       "    </tr>\n",
       "    <tr>\n",
       "      <th>6</th>\n",
       "      <td>Jer-Chin Chuang</td>\n",
       "      <td>2.3</td>\n",
       "      <td>4.3</td>\n",
       "      <td>0.30</td>\n",
       "      <td>68</td>\n",
       "      <td>Linear Algebra w Computat Appl</td>\n",
       "      <td>3.282757</td>\n",
       "      <td>15058.10</td>\n",
       "      <td>4579.0</td>\n",
       "      <td>3.288513</td>\n",
       "    </tr>\n",
       "    <tr>\n",
       "      <th>7</th>\n",
       "      <td>Daniel Berwick Evans</td>\n",
       "      <td>4.1</td>\n",
       "      <td>3.6</td>\n",
       "      <td>0.80</td>\n",
       "      <td>15</td>\n",
       "      <td>Calculus II</td>\n",
       "      <td>2.964776</td>\n",
       "      <td>2843.57</td>\n",
       "      <td>959.0</td>\n",
       "      <td>2.965141</td>\n",
       "    </tr>\n",
       "    <tr>\n",
       "      <th>8</th>\n",
       "      <td>Wade Fagen-Ulmschneider</td>\n",
       "      <td>4.6</td>\n",
       "      <td>2.6</td>\n",
       "      <td>0.92</td>\n",
       "      <td>64</td>\n",
       "      <td>NaN</td>\n",
       "      <td>NaN</td>\n",
       "      <td>NaN</td>\n",
       "      <td>NaN</td>\n",
       "      <td>NaN</td>\n",
       "    </tr>\n",
       "    <tr>\n",
       "      <th>9</th>\n",
       "      <td>Karle Flanagan</td>\n",
       "      <td>4.9</td>\n",
       "      <td>1.9</td>\n",
       "      <td>0.97</td>\n",
       "      <td>252</td>\n",
       "      <td>Data Science Discovery</td>\n",
       "      <td>3.571818</td>\n",
       "      <td>15598.41</td>\n",
       "      <td>4345.0</td>\n",
       "      <td>3.589968</td>\n",
       "    </tr>\n",
       "  </tbody>\n",
       "</table>\n",
       "</div>"
      ],
      "text/plain": [
       "        primary_instructor  rating  level_of_difficulty  would_take_again  \\\n",
       "0         Geoffrey Challen     3.3                  3.7              0.60   \n",
       "1            Isaac DiIanni     4.4                  2.6              0.83   \n",
       "2            Bryan Buckley     3.8                  2.9              0.67   \n",
       "3  Manijeh Bahreini Esfaha     3.9                  2.9              0.78   \n",
       "4        April Hoffmeister     4.9                  2.9              0.99   \n",
       "5            Jared Bronski     4.5                  2.8              1.00   \n",
       "6          Jer-Chin Chuang     2.3                  4.3              0.30   \n",
       "7     Daniel Berwick Evans     4.1                  3.6              0.80   \n",
       "8  Wade Fagen-Ulmschneider     4.6                  2.6              0.92   \n",
       "9           Karle Flanagan     4.9                  1.9              0.97   \n",
       "\n",
       "   total_ratings                    course_title  simple_gpa  \\\n",
       "0            173     Intro to Computer Science I    3.564427   \n",
       "1            156        Microeconomic Principles    3.216907   \n",
       "2             94                             NaN         NaN   \n",
       "3             49                     Calculus II    3.095914   \n",
       "4             65                             NaN         NaN   \n",
       "5             79                     Calculus II    2.994208   \n",
       "6             68  Linear Algebra w Computat Appl    3.282757   \n",
       "7             15                     Calculus II    2.964776   \n",
       "8             64                             NaN         NaN   \n",
       "9            252          Data Science Discovery    3.571818   \n",
       "\n",
       "   total_grade_points  total_students  weighted_gpa  \n",
       "0            23865.20          6608.0      3.611562  \n",
       "1            15924.64          4623.0      3.444655  \n",
       "2                 NaN             NaN           NaN  \n",
       "3            11044.51          3556.0      3.105880  \n",
       "4                 NaN             NaN           NaN  \n",
       "5             9527.32          3190.0      2.986621  \n",
       "6            15058.10          4579.0      3.288513  \n",
       "7             2843.57           959.0      2.965141  \n",
       "8                 NaN             NaN           NaN  \n",
       "9            15598.41          4345.0      3.589968  "
      ]
     },
     "execution_count": 207,
     "metadata": {},
     "output_type": "execute_result"
    }
   ],
   "source": [
    "df = rmp_df.merge(grouped, on='primary_instructor', how='left')\n",
    "df"
   ]
  },
  {
   "cell_type": "code",
   "execution_count": 208,
   "metadata": {},
   "outputs": [
    {
     "data": {
      "text/html": [
       "<div>\n",
       "<style scoped>\n",
       "    .dataframe tbody tr th:only-of-type {\n",
       "        vertical-align: middle;\n",
       "    }\n",
       "\n",
       "    .dataframe tbody tr th {\n",
       "        vertical-align: top;\n",
       "    }\n",
       "\n",
       "    .dataframe thead th {\n",
       "        text-align: right;\n",
       "    }\n",
       "</style>\n",
       "<table border=\"1\" class=\"dataframe\">\n",
       "  <thead>\n",
       "    <tr style=\"text-align: right;\">\n",
       "      <th></th>\n",
       "      <th>primary_instructor</th>\n",
       "      <th>rating</th>\n",
       "      <th>level_of_difficulty</th>\n",
       "      <th>would_take_again</th>\n",
       "      <th>total_ratings</th>\n",
       "      <th>course_title</th>\n",
       "      <th>simple_gpa</th>\n",
       "      <th>total_grade_points</th>\n",
       "      <th>total_students</th>\n",
       "      <th>weighted_gpa</th>\n",
       "      <th>course_code</th>\n",
       "    </tr>\n",
       "  </thead>\n",
       "  <tbody>\n",
       "    <tr>\n",
       "      <th>0</th>\n",
       "      <td>Geoffrey Challen</td>\n",
       "      <td>3.3</td>\n",
       "      <td>3.7</td>\n",
       "      <td>0.60</td>\n",
       "      <td>173</td>\n",
       "      <td>Intro to Computer Science I</td>\n",
       "      <td>3.564427</td>\n",
       "      <td>23865.20</td>\n",
       "      <td>6608.0</td>\n",
       "      <td>3.611562</td>\n",
       "      <td>CS124</td>\n",
       "    </tr>\n",
       "    <tr>\n",
       "      <th>1</th>\n",
       "      <td>Isaac DiIanni</td>\n",
       "      <td>4.4</td>\n",
       "      <td>2.6</td>\n",
       "      <td>0.83</td>\n",
       "      <td>156</td>\n",
       "      <td>Microeconomic Principles</td>\n",
       "      <td>3.216907</td>\n",
       "      <td>15924.64</td>\n",
       "      <td>4623.0</td>\n",
       "      <td>3.444655</td>\n",
       "      <td>ECON102</td>\n",
       "    </tr>\n",
       "    <tr>\n",
       "      <th>2</th>\n",
       "      <td>Bryan Buckley</td>\n",
       "      <td>3.8</td>\n",
       "      <td>2.9</td>\n",
       "      <td>0.67</td>\n",
       "      <td>94</td>\n",
       "      <td>NaN</td>\n",
       "      <td>NaN</td>\n",
       "      <td>NaN</td>\n",
       "      <td>NaN</td>\n",
       "      <td>NaN</td>\n",
       "      <td>NaN</td>\n",
       "    </tr>\n",
       "    <tr>\n",
       "      <th>3</th>\n",
       "      <td>Manijeh Bahreini Esfaha</td>\n",
       "      <td>3.9</td>\n",
       "      <td>2.9</td>\n",
       "      <td>0.78</td>\n",
       "      <td>49</td>\n",
       "      <td>Calculus II</td>\n",
       "      <td>3.095914</td>\n",
       "      <td>11044.51</td>\n",
       "      <td>3556.0</td>\n",
       "      <td>3.105880</td>\n",
       "      <td>MATH231</td>\n",
       "    </tr>\n",
       "    <tr>\n",
       "      <th>4</th>\n",
       "      <td>April Hoffmeister</td>\n",
       "      <td>4.9</td>\n",
       "      <td>2.9</td>\n",
       "      <td>0.99</td>\n",
       "      <td>65</td>\n",
       "      <td>NaN</td>\n",
       "      <td>NaN</td>\n",
       "      <td>NaN</td>\n",
       "      <td>NaN</td>\n",
       "      <td>NaN</td>\n",
       "      <td>NaN</td>\n",
       "    </tr>\n",
       "    <tr>\n",
       "      <th>5</th>\n",
       "      <td>Jared Bronski</td>\n",
       "      <td>4.5</td>\n",
       "      <td>2.8</td>\n",
       "      <td>1.00</td>\n",
       "      <td>79</td>\n",
       "      <td>Calculus II</td>\n",
       "      <td>2.994208</td>\n",
       "      <td>9527.32</td>\n",
       "      <td>3190.0</td>\n",
       "      <td>2.986621</td>\n",
       "      <td>MATH231</td>\n",
       "    </tr>\n",
       "    <tr>\n",
       "      <th>6</th>\n",
       "      <td>Jer-Chin Chuang</td>\n",
       "      <td>2.3</td>\n",
       "      <td>4.3</td>\n",
       "      <td>0.30</td>\n",
       "      <td>68</td>\n",
       "      <td>Linear Algebra w Computat Appl</td>\n",
       "      <td>3.282757</td>\n",
       "      <td>15058.10</td>\n",
       "      <td>4579.0</td>\n",
       "      <td>3.288513</td>\n",
       "      <td>MATH257</td>\n",
       "    </tr>\n",
       "    <tr>\n",
       "      <th>7</th>\n",
       "      <td>Daniel Berwick Evans</td>\n",
       "      <td>4.1</td>\n",
       "      <td>3.6</td>\n",
       "      <td>0.80</td>\n",
       "      <td>15</td>\n",
       "      <td>Calculus II</td>\n",
       "      <td>2.964776</td>\n",
       "      <td>2843.57</td>\n",
       "      <td>959.0</td>\n",
       "      <td>2.965141</td>\n",
       "      <td>MATH231</td>\n",
       "    </tr>\n",
       "    <tr>\n",
       "      <th>8</th>\n",
       "      <td>Wade Fagen-Ulmschneider</td>\n",
       "      <td>4.6</td>\n",
       "      <td>2.6</td>\n",
       "      <td>0.92</td>\n",
       "      <td>64</td>\n",
       "      <td>NaN</td>\n",
       "      <td>NaN</td>\n",
       "      <td>NaN</td>\n",
       "      <td>NaN</td>\n",
       "      <td>NaN</td>\n",
       "      <td>NaN</td>\n",
       "    </tr>\n",
       "    <tr>\n",
       "      <th>9</th>\n",
       "      <td>Karle Flanagan</td>\n",
       "      <td>4.9</td>\n",
       "      <td>1.9</td>\n",
       "      <td>0.97</td>\n",
       "      <td>252</td>\n",
       "      <td>Data Science Discovery</td>\n",
       "      <td>3.571818</td>\n",
       "      <td>15598.41</td>\n",
       "      <td>4345.0</td>\n",
       "      <td>3.589968</td>\n",
       "      <td>STAT107</td>\n",
       "    </tr>\n",
       "  </tbody>\n",
       "</table>\n",
       "</div>"
      ],
      "text/plain": [
       "        primary_instructor  rating  level_of_difficulty  would_take_again  \\\n",
       "0         Geoffrey Challen     3.3                  3.7              0.60   \n",
       "1            Isaac DiIanni     4.4                  2.6              0.83   \n",
       "2            Bryan Buckley     3.8                  2.9              0.67   \n",
       "3  Manijeh Bahreini Esfaha     3.9                  2.9              0.78   \n",
       "4        April Hoffmeister     4.9                  2.9              0.99   \n",
       "5            Jared Bronski     4.5                  2.8              1.00   \n",
       "6          Jer-Chin Chuang     2.3                  4.3              0.30   \n",
       "7     Daniel Berwick Evans     4.1                  3.6              0.80   \n",
       "8  Wade Fagen-Ulmschneider     4.6                  2.6              0.92   \n",
       "9           Karle Flanagan     4.9                  1.9              0.97   \n",
       "\n",
       "   total_ratings                    course_title  simple_gpa  \\\n",
       "0            173     Intro to Computer Science I    3.564427   \n",
       "1            156        Microeconomic Principles    3.216907   \n",
       "2             94                             NaN         NaN   \n",
       "3             49                     Calculus II    3.095914   \n",
       "4             65                             NaN         NaN   \n",
       "5             79                     Calculus II    2.994208   \n",
       "6             68  Linear Algebra w Computat Appl    3.282757   \n",
       "7             15                     Calculus II    2.964776   \n",
       "8             64                             NaN         NaN   \n",
       "9            252          Data Science Discovery    3.571818   \n",
       "\n",
       "   total_grade_points  total_students  weighted_gpa course_code  \n",
       "0            23865.20          6608.0      3.611562       CS124  \n",
       "1            15924.64          4623.0      3.444655     ECON102  \n",
       "2                 NaN             NaN           NaN         NaN  \n",
       "3            11044.51          3556.0      3.105880     MATH231  \n",
       "4                 NaN             NaN           NaN         NaN  \n",
       "5             9527.32          3190.0      2.986621     MATH231  \n",
       "6            15058.10          4579.0      3.288513     MATH257  \n",
       "7             2843.57           959.0      2.965141     MATH231  \n",
       "8                 NaN             NaN           NaN         NaN  \n",
       "9            15598.41          4345.0      3.589968     STAT107  "
      ]
     },
     "execution_count": 208,
     "metadata": {},
     "output_type": "execute_result"
    }
   ],
   "source": [
    "df['course_code'] = ['CS124', 'ECON102', np.nan, 'MATH231', np.nan, 'MATH231','MATH257', 'MATH231', np.nan, 'STAT107']\n",
    "df"
   ]
  },
  {
   "cell_type": "code",
   "execution_count": 209,
   "metadata": {},
   "outputs": [],
   "source": [
    "# df.to_csv('datasets/fa25_profs_gpa_rmp.csv')"
   ]
  },
  {
   "cell_type": "code",
   "execution_count": 219,
   "metadata": {},
   "outputs": [
    {
     "name": "stdout",
     "output_type": "stream",
     "text": [
      "No courses selected\n"
     ]
    }
   ],
   "source": [
    "# 1. Load & prepare your master dataset\n",
    "df_master = pd.read_csv('datasets/fa25_profs_gpa_rmp.csv')\n",
    "\n",
    "# 2. Coerce key columns to numeric and drop any incomplete rows\n",
    "for col in ['weighted_gpa', 'rating', 'level_of_difficulty']:\n",
    "    df_master[col] = pd.to_numeric(df_master[col], errors='coerce')\n",
    "df_master = df_master.dropna(subset=['weighted_gpa','rating','level_of_difficulty','course_code'])\n",
    "\n",
    "# 3. State: user’s current selection & what we’ll plot\n",
    "selected_codes = []\n",
    "plot_df = pd.DataFrame(columns=df_master.columns)\n",
    "\n",
    "min_sz, max_sz = 10, 50\n",
    "df_master['marker_size'] = (\n",
    "    (df_master['level_of_difficulty'] - 1)\n",
    "      / (5 - 1)\n",
    "      * (max_sz - min_sz)\n",
    "      + min_sz\n",
    ")\n",
    "\n",
    "# (Optionally you can do the same for rating if you want size by rating\n",
    "#  df_master['marker_size'] = ((df_master['rating'] - 1)/(5-1))*(max_sz-min_sz)+min_sz\n",
    "# )\n",
    "\n",
    "# 2) In your chart factory, swap size → 'marker_size'  \n",
    "def make_chart(dataframe):\n",
    "    fig = px.scatter(\n",
    "        dataframe,\n",
    "        x='course_code',\n",
    "        y='weighted_gpa',\n",
    "        color='rating',\n",
    "        size='marker_size',        # use our precomputed pixel sizes\n",
    "        size_max=max_sz,           # just to enforce the ceiling\n",
    "        color_continuous_scale='Viridis',\n",
    "        labels={\n",
    "            'course_code':'Course Code',\n",
    "            'weighted_gpa':'Weighted GPA',\n",
    "            'rating':'Prof Rating',\n",
    "            'marker_size':'Difficulty (scaled)'\n",
    "        },\n",
    "        title='Course GPA vs Prof Rating (size = Difficulty)'\n",
    "    )\n",
    "    fig.update_traces(\n",
    "        marker=dict(line=dict(width=1, color='white'), opacity=0.85)\n",
    "    )\n",
    "    fig.update_layout(template='plotly_white', width=700, height=450)\n",
    "    return fig\n",
    "\n",
    "# 5. Display helper: clears and redraws\n",
    "def update_chart():\n",
    "    clear_output(wait=True)\n",
    "    if plot_df.empty:\n",
    "        print(\"No courses selected\")\n",
    "    else:\n",
    "        make_chart(plot_df).show()\n",
    "\n",
    "# 6. Add a course (by its code) to the plot\n",
    "def add_course(code: str):\n",
    "    global plot_df, selected_codes\n",
    "    code = code.strip().upper()\n",
    "    if code in selected_codes:\n",
    "        print(f\"⚠️  {code} is already selected.\")\n",
    "        return\n",
    "    subset = df_master[df_master['course_code'] == code]\n",
    "    if subset.empty:\n",
    "        print(f\"❌  No data found for course code: {code}\")\n",
    "        return\n",
    "    selected_codes.append(code)\n",
    "    plot_df = pd.concat([plot_df, subset], ignore_index=True)\n",
    "    update_chart()\n",
    "\n",
    "# 7. Remove a course (by its code) from the plot\n",
    "def remove_course(code: str):\n",
    "    global plot_df, selected_codes\n",
    "    code = code.strip().upper()\n",
    "    if code not in selected_codes:\n",
    "        print(f\"⚠️  {code} is not in the current selection.\")\n",
    "        return\n",
    "    selected_codes.remove(code)\n",
    "    plot_df = plot_df[plot_df['course_code'] != code]\n",
    "    update_chart()\n",
    "\n",
    "# 8. Kick off the demo\n",
    "print(\"🎓  Course–Professor GPA Interactive Demo\")\n",
    "update_chart()"
   ]
  },
  {
   "cell_type": "code",
   "execution_count": 220,
   "metadata": {},
   "outputs": [
    {
     "data": {
      "application/vnd.plotly.v1+json": {
       "config": {
        "plotlyServerURL": "https://plot.ly"
       },
       "data": [
        {
         "hovertemplate": "Course Code=%{x}<br>Weighted GPA=%{y}<br>Difficulty (scaled)=%{marker.size}<br>Prof Rating=%{marker.color}<extra></extra>",
         "legendgroup": "",
         "marker": {
          "color": {
           "bdata": "ZmZmZmZmCkBmZmZmZmYCQDMzMzMzMw9AAAAAAAAAEkBmZmZmZmYQQJqZmZmZmRFAmpmZmZmZE0A=",
           "dtype": "f8"
          },
          "coloraxis": "coloraxis",
          "line": {
           "color": "white",
           "width": 1
          },
          "opacity": 0.85,
          "size": {
           "bdata": "AAAAAACAQkAAAAAAAIBFQAAAAAAAAD1AAAAAAAAAPEAAAAAAAABCQAAAAAAAADpAAAAAAAAAM0A=",
           "dtype": "f8"
          },
          "sizemode": "area",
          "sizeref": 0.0172,
          "symbol": "circle"
         },
         "mode": "markers",
         "name": "",
         "orientation": "v",
         "showlegend": false,
         "type": "scatter",
         "x": [
          "CS124",
          "MATH257",
          "MATH231",
          "MATH231",
          "MATH231",
          "ECON102",
          "STAT107"
         ],
         "xaxis": "x",
         "y": {
          "bdata": "sRa5e3rkDECGZkHJ304KQJlhN7jX2AhA6AFdY5nkB0C8vZG5m7gHQKbr9EWnjgtAbu3lBkG4DEA=",
          "dtype": "f8"
         },
         "yaxis": "y"
        }
       ],
       "layout": {
        "coloraxis": {
         "colorbar": {
          "title": {
           "text": "Prof Rating"
          }
         },
         "colorscale": [
          [
           0,
           "#440154"
          ],
          [
           0.1111111111111111,
           "#482878"
          ],
          [
           0.2222222222222222,
           "#3e4989"
          ],
          [
           0.3333333333333333,
           "#31688e"
          ],
          [
           0.4444444444444444,
           "#26828e"
          ],
          [
           0.5555555555555556,
           "#1f9e89"
          ],
          [
           0.6666666666666666,
           "#35b779"
          ],
          [
           0.7777777777777778,
           "#6ece58"
          ],
          [
           0.8888888888888888,
           "#b5de2b"
          ],
          [
           1,
           "#fde725"
          ]
         ]
        },
        "height": 450,
        "legend": {
         "itemsizing": "constant",
         "tracegroupgap": 0
        },
        "template": {
         "data": {
          "bar": [
           {
            "error_x": {
             "color": "#2a3f5f"
            },
            "error_y": {
             "color": "#2a3f5f"
            },
            "marker": {
             "line": {
              "color": "white",
              "width": 0.5
             },
             "pattern": {
              "fillmode": "overlay",
              "size": 10,
              "solidity": 0.2
             }
            },
            "type": "bar"
           }
          ],
          "barpolar": [
           {
            "marker": {
             "line": {
              "color": "white",
              "width": 0.5
             },
             "pattern": {
              "fillmode": "overlay",
              "size": 10,
              "solidity": 0.2
             }
            },
            "type": "barpolar"
           }
          ],
          "carpet": [
           {
            "aaxis": {
             "endlinecolor": "#2a3f5f",
             "gridcolor": "#C8D4E3",
             "linecolor": "#C8D4E3",
             "minorgridcolor": "#C8D4E3",
             "startlinecolor": "#2a3f5f"
            },
            "baxis": {
             "endlinecolor": "#2a3f5f",
             "gridcolor": "#C8D4E3",
             "linecolor": "#C8D4E3",
             "minorgridcolor": "#C8D4E3",
             "startlinecolor": "#2a3f5f"
            },
            "type": "carpet"
           }
          ],
          "choropleth": [
           {
            "colorbar": {
             "outlinewidth": 0,
             "ticks": ""
            },
            "type": "choropleth"
           }
          ],
          "contour": [
           {
            "colorbar": {
             "outlinewidth": 0,
             "ticks": ""
            },
            "colorscale": [
             [
              0,
              "#0d0887"
             ],
             [
              0.1111111111111111,
              "#46039f"
             ],
             [
              0.2222222222222222,
              "#7201a8"
             ],
             [
              0.3333333333333333,
              "#9c179e"
             ],
             [
              0.4444444444444444,
              "#bd3786"
             ],
             [
              0.5555555555555556,
              "#d8576b"
             ],
             [
              0.6666666666666666,
              "#ed7953"
             ],
             [
              0.7777777777777778,
              "#fb9f3a"
             ],
             [
              0.8888888888888888,
              "#fdca26"
             ],
             [
              1,
              "#f0f921"
             ]
            ],
            "type": "contour"
           }
          ],
          "contourcarpet": [
           {
            "colorbar": {
             "outlinewidth": 0,
             "ticks": ""
            },
            "type": "contourcarpet"
           }
          ],
          "heatmap": [
           {
            "colorbar": {
             "outlinewidth": 0,
             "ticks": ""
            },
            "colorscale": [
             [
              0,
              "#0d0887"
             ],
             [
              0.1111111111111111,
              "#46039f"
             ],
             [
              0.2222222222222222,
              "#7201a8"
             ],
             [
              0.3333333333333333,
              "#9c179e"
             ],
             [
              0.4444444444444444,
              "#bd3786"
             ],
             [
              0.5555555555555556,
              "#d8576b"
             ],
             [
              0.6666666666666666,
              "#ed7953"
             ],
             [
              0.7777777777777778,
              "#fb9f3a"
             ],
             [
              0.8888888888888888,
              "#fdca26"
             ],
             [
              1,
              "#f0f921"
             ]
            ],
            "type": "heatmap"
           }
          ],
          "histogram": [
           {
            "marker": {
             "pattern": {
              "fillmode": "overlay",
              "size": 10,
              "solidity": 0.2
             }
            },
            "type": "histogram"
           }
          ],
          "histogram2d": [
           {
            "colorbar": {
             "outlinewidth": 0,
             "ticks": ""
            },
            "colorscale": [
             [
              0,
              "#0d0887"
             ],
             [
              0.1111111111111111,
              "#46039f"
             ],
             [
              0.2222222222222222,
              "#7201a8"
             ],
             [
              0.3333333333333333,
              "#9c179e"
             ],
             [
              0.4444444444444444,
              "#bd3786"
             ],
             [
              0.5555555555555556,
              "#d8576b"
             ],
             [
              0.6666666666666666,
              "#ed7953"
             ],
             [
              0.7777777777777778,
              "#fb9f3a"
             ],
             [
              0.8888888888888888,
              "#fdca26"
             ],
             [
              1,
              "#f0f921"
             ]
            ],
            "type": "histogram2d"
           }
          ],
          "histogram2dcontour": [
           {
            "colorbar": {
             "outlinewidth": 0,
             "ticks": ""
            },
            "colorscale": [
             [
              0,
              "#0d0887"
             ],
             [
              0.1111111111111111,
              "#46039f"
             ],
             [
              0.2222222222222222,
              "#7201a8"
             ],
             [
              0.3333333333333333,
              "#9c179e"
             ],
             [
              0.4444444444444444,
              "#bd3786"
             ],
             [
              0.5555555555555556,
              "#d8576b"
             ],
             [
              0.6666666666666666,
              "#ed7953"
             ],
             [
              0.7777777777777778,
              "#fb9f3a"
             ],
             [
              0.8888888888888888,
              "#fdca26"
             ],
             [
              1,
              "#f0f921"
             ]
            ],
            "type": "histogram2dcontour"
           }
          ],
          "mesh3d": [
           {
            "colorbar": {
             "outlinewidth": 0,
             "ticks": ""
            },
            "type": "mesh3d"
           }
          ],
          "parcoords": [
           {
            "line": {
             "colorbar": {
              "outlinewidth": 0,
              "ticks": ""
             }
            },
            "type": "parcoords"
           }
          ],
          "pie": [
           {
            "automargin": true,
            "type": "pie"
           }
          ],
          "scatter": [
           {
            "fillpattern": {
             "fillmode": "overlay",
             "size": 10,
             "solidity": 0.2
            },
            "type": "scatter"
           }
          ],
          "scatter3d": [
           {
            "line": {
             "colorbar": {
              "outlinewidth": 0,
              "ticks": ""
             }
            },
            "marker": {
             "colorbar": {
              "outlinewidth": 0,
              "ticks": ""
             }
            },
            "type": "scatter3d"
           }
          ],
          "scattercarpet": [
           {
            "marker": {
             "colorbar": {
              "outlinewidth": 0,
              "ticks": ""
             }
            },
            "type": "scattercarpet"
           }
          ],
          "scattergeo": [
           {
            "marker": {
             "colorbar": {
              "outlinewidth": 0,
              "ticks": ""
             }
            },
            "type": "scattergeo"
           }
          ],
          "scattergl": [
           {
            "marker": {
             "colorbar": {
              "outlinewidth": 0,
              "ticks": ""
             }
            },
            "type": "scattergl"
           }
          ],
          "scattermap": [
           {
            "marker": {
             "colorbar": {
              "outlinewidth": 0,
              "ticks": ""
             }
            },
            "type": "scattermap"
           }
          ],
          "scattermapbox": [
           {
            "marker": {
             "colorbar": {
              "outlinewidth": 0,
              "ticks": ""
             }
            },
            "type": "scattermapbox"
           }
          ],
          "scatterpolar": [
           {
            "marker": {
             "colorbar": {
              "outlinewidth": 0,
              "ticks": ""
             }
            },
            "type": "scatterpolar"
           }
          ],
          "scatterpolargl": [
           {
            "marker": {
             "colorbar": {
              "outlinewidth": 0,
              "ticks": ""
             }
            },
            "type": "scatterpolargl"
           }
          ],
          "scatterternary": [
           {
            "marker": {
             "colorbar": {
              "outlinewidth": 0,
              "ticks": ""
             }
            },
            "type": "scatterternary"
           }
          ],
          "surface": [
           {
            "colorbar": {
             "outlinewidth": 0,
             "ticks": ""
            },
            "colorscale": [
             [
              0,
              "#0d0887"
             ],
             [
              0.1111111111111111,
              "#46039f"
             ],
             [
              0.2222222222222222,
              "#7201a8"
             ],
             [
              0.3333333333333333,
              "#9c179e"
             ],
             [
              0.4444444444444444,
              "#bd3786"
             ],
             [
              0.5555555555555556,
              "#d8576b"
             ],
             [
              0.6666666666666666,
              "#ed7953"
             ],
             [
              0.7777777777777778,
              "#fb9f3a"
             ],
             [
              0.8888888888888888,
              "#fdca26"
             ],
             [
              1,
              "#f0f921"
             ]
            ],
            "type": "surface"
           }
          ],
          "table": [
           {
            "cells": {
             "fill": {
              "color": "#EBF0F8"
             },
             "line": {
              "color": "white"
             }
            },
            "header": {
             "fill": {
              "color": "#C8D4E3"
             },
             "line": {
              "color": "white"
             }
            },
            "type": "table"
           }
          ]
         },
         "layout": {
          "annotationdefaults": {
           "arrowcolor": "#2a3f5f",
           "arrowhead": 0,
           "arrowwidth": 1
          },
          "autotypenumbers": "strict",
          "coloraxis": {
           "colorbar": {
            "outlinewidth": 0,
            "ticks": ""
           }
          },
          "colorscale": {
           "diverging": [
            [
             0,
             "#8e0152"
            ],
            [
             0.1,
             "#c51b7d"
            ],
            [
             0.2,
             "#de77ae"
            ],
            [
             0.3,
             "#f1b6da"
            ],
            [
             0.4,
             "#fde0ef"
            ],
            [
             0.5,
             "#f7f7f7"
            ],
            [
             0.6,
             "#e6f5d0"
            ],
            [
             0.7,
             "#b8e186"
            ],
            [
             0.8,
             "#7fbc41"
            ],
            [
             0.9,
             "#4d9221"
            ],
            [
             1,
             "#276419"
            ]
           ],
           "sequential": [
            [
             0,
             "#0d0887"
            ],
            [
             0.1111111111111111,
             "#46039f"
            ],
            [
             0.2222222222222222,
             "#7201a8"
            ],
            [
             0.3333333333333333,
             "#9c179e"
            ],
            [
             0.4444444444444444,
             "#bd3786"
            ],
            [
             0.5555555555555556,
             "#d8576b"
            ],
            [
             0.6666666666666666,
             "#ed7953"
            ],
            [
             0.7777777777777778,
             "#fb9f3a"
            ],
            [
             0.8888888888888888,
             "#fdca26"
            ],
            [
             1,
             "#f0f921"
            ]
           ],
           "sequentialminus": [
            [
             0,
             "#0d0887"
            ],
            [
             0.1111111111111111,
             "#46039f"
            ],
            [
             0.2222222222222222,
             "#7201a8"
            ],
            [
             0.3333333333333333,
             "#9c179e"
            ],
            [
             0.4444444444444444,
             "#bd3786"
            ],
            [
             0.5555555555555556,
             "#d8576b"
            ],
            [
             0.6666666666666666,
             "#ed7953"
            ],
            [
             0.7777777777777778,
             "#fb9f3a"
            ],
            [
             0.8888888888888888,
             "#fdca26"
            ],
            [
             1,
             "#f0f921"
            ]
           ]
          },
          "colorway": [
           "#636efa",
           "#EF553B",
           "#00cc96",
           "#ab63fa",
           "#FFA15A",
           "#19d3f3",
           "#FF6692",
           "#B6E880",
           "#FF97FF",
           "#FECB52"
          ],
          "font": {
           "color": "#2a3f5f"
          },
          "geo": {
           "bgcolor": "white",
           "lakecolor": "white",
           "landcolor": "white",
           "showlakes": true,
           "showland": true,
           "subunitcolor": "#C8D4E3"
          },
          "hoverlabel": {
           "align": "left"
          },
          "hovermode": "closest",
          "mapbox": {
           "style": "light"
          },
          "paper_bgcolor": "white",
          "plot_bgcolor": "white",
          "polar": {
           "angularaxis": {
            "gridcolor": "#EBF0F8",
            "linecolor": "#EBF0F8",
            "ticks": ""
           },
           "bgcolor": "white",
           "radialaxis": {
            "gridcolor": "#EBF0F8",
            "linecolor": "#EBF0F8",
            "ticks": ""
           }
          },
          "scene": {
           "xaxis": {
            "backgroundcolor": "white",
            "gridcolor": "#DFE8F3",
            "gridwidth": 2,
            "linecolor": "#EBF0F8",
            "showbackground": true,
            "ticks": "",
            "zerolinecolor": "#EBF0F8"
           },
           "yaxis": {
            "backgroundcolor": "white",
            "gridcolor": "#DFE8F3",
            "gridwidth": 2,
            "linecolor": "#EBF0F8",
            "showbackground": true,
            "ticks": "",
            "zerolinecolor": "#EBF0F8"
           },
           "zaxis": {
            "backgroundcolor": "white",
            "gridcolor": "#DFE8F3",
            "gridwidth": 2,
            "linecolor": "#EBF0F8",
            "showbackground": true,
            "ticks": "",
            "zerolinecolor": "#EBF0F8"
           }
          },
          "shapedefaults": {
           "line": {
            "color": "#2a3f5f"
           }
          },
          "ternary": {
           "aaxis": {
            "gridcolor": "#DFE8F3",
            "linecolor": "#A2B1C6",
            "ticks": ""
           },
           "baxis": {
            "gridcolor": "#DFE8F3",
            "linecolor": "#A2B1C6",
            "ticks": ""
           },
           "bgcolor": "white",
           "caxis": {
            "gridcolor": "#DFE8F3",
            "linecolor": "#A2B1C6",
            "ticks": ""
           }
          },
          "title": {
           "x": 0.05
          },
          "xaxis": {
           "automargin": true,
           "gridcolor": "#EBF0F8",
           "linecolor": "#EBF0F8",
           "ticks": "",
           "title": {
            "standoff": 15
           },
           "zerolinecolor": "#EBF0F8",
           "zerolinewidth": 2
          },
          "yaxis": {
           "automargin": true,
           "gridcolor": "#EBF0F8",
           "linecolor": "#EBF0F8",
           "ticks": "",
           "title": {
            "standoff": 15
           },
           "zerolinecolor": "#EBF0F8",
           "zerolinewidth": 2
          }
         }
        },
        "title": {
         "text": "Course GPA vs Prof Rating (size = Difficulty)"
        },
        "width": 700,
        "xaxis": {
         "anchor": "y",
         "domain": [
          0,
          1
         ],
         "title": {
          "text": "Course Code"
         }
        },
        "yaxis": {
         "anchor": "x",
         "domain": [
          0,
          1
         ],
         "title": {
          "text": "Weighted GPA"
         }
        }
       }
      }
     },
     "metadata": {},
     "output_type": "display_data"
    }
   ],
   "source": [
    "add_course('CS124')\n",
    "add_course('MATH257')\n",
    "add_course('MATH231')\n",
    "add_course('ECON102')\n",
    "add_course('STAT107')"
   ]
  },
  {
   "cell_type": "code",
   "execution_count": 221,
   "metadata": {},
   "outputs": [
    {
     "data": {
      "application/vnd.plotly.v1+json": {
       "config": {
        "plotlyServerURL": "https://plot.ly"
       },
       "data": [
        {
         "hovertemplate": "Course Code=%{x}<br>Weighted GPA=%{y}<br>Difficulty (scaled)=%{marker.size}<br>Prof Rating=%{marker.color}<extra></extra>",
         "legendgroup": "",
         "marker": {
          "color": {
           "bdata": "ZmZmZmZmAkAzMzMzMzMPQAAAAAAAABJAZmZmZmZmEECamZmZmZkRQJqZmZmZmRNA",
           "dtype": "f8"
          },
          "coloraxis": "coloraxis",
          "line": {
           "color": "white",
           "width": 1
          },
          "opacity": 0.85,
          "size": {
           "bdata": "AAAAAACARUAAAAAAAAA9QAAAAAAAADxAAAAAAAAAQkAAAAAAAAA6QAAAAAAAADNA",
           "dtype": "f8"
          },
          "sizemode": "area",
          "sizeref": 0.0172,
          "symbol": "circle"
         },
         "mode": "markers",
         "name": "",
         "orientation": "v",
         "showlegend": false,
         "type": "scatter",
         "x": [
          "MATH257",
          "MATH231",
          "MATH231",
          "MATH231",
          "ECON102",
          "STAT107"
         ],
         "xaxis": "x",
         "y": {
          "bdata": "hmZByd9OCkCZYTe419gIQOgBXWOZ5AdAvL2RuZu4B0Cm6/RFp44LQG7t5QZBuAxA",
          "dtype": "f8"
         },
         "yaxis": "y"
        }
       ],
       "layout": {
        "coloraxis": {
         "colorbar": {
          "title": {
           "text": "Prof Rating"
          }
         },
         "colorscale": [
          [
           0,
           "#440154"
          ],
          [
           0.1111111111111111,
           "#482878"
          ],
          [
           0.2222222222222222,
           "#3e4989"
          ],
          [
           0.3333333333333333,
           "#31688e"
          ],
          [
           0.4444444444444444,
           "#26828e"
          ],
          [
           0.5555555555555556,
           "#1f9e89"
          ],
          [
           0.6666666666666666,
           "#35b779"
          ],
          [
           0.7777777777777778,
           "#6ece58"
          ],
          [
           0.8888888888888888,
           "#b5de2b"
          ],
          [
           1,
           "#fde725"
          ]
         ]
        },
        "height": 450,
        "legend": {
         "itemsizing": "constant",
         "tracegroupgap": 0
        },
        "template": {
         "data": {
          "bar": [
           {
            "error_x": {
             "color": "#2a3f5f"
            },
            "error_y": {
             "color": "#2a3f5f"
            },
            "marker": {
             "line": {
              "color": "white",
              "width": 0.5
             },
             "pattern": {
              "fillmode": "overlay",
              "size": 10,
              "solidity": 0.2
             }
            },
            "type": "bar"
           }
          ],
          "barpolar": [
           {
            "marker": {
             "line": {
              "color": "white",
              "width": 0.5
             },
             "pattern": {
              "fillmode": "overlay",
              "size": 10,
              "solidity": 0.2
             }
            },
            "type": "barpolar"
           }
          ],
          "carpet": [
           {
            "aaxis": {
             "endlinecolor": "#2a3f5f",
             "gridcolor": "#C8D4E3",
             "linecolor": "#C8D4E3",
             "minorgridcolor": "#C8D4E3",
             "startlinecolor": "#2a3f5f"
            },
            "baxis": {
             "endlinecolor": "#2a3f5f",
             "gridcolor": "#C8D4E3",
             "linecolor": "#C8D4E3",
             "minorgridcolor": "#C8D4E3",
             "startlinecolor": "#2a3f5f"
            },
            "type": "carpet"
           }
          ],
          "choropleth": [
           {
            "colorbar": {
             "outlinewidth": 0,
             "ticks": ""
            },
            "type": "choropleth"
           }
          ],
          "contour": [
           {
            "colorbar": {
             "outlinewidth": 0,
             "ticks": ""
            },
            "colorscale": [
             [
              0,
              "#0d0887"
             ],
             [
              0.1111111111111111,
              "#46039f"
             ],
             [
              0.2222222222222222,
              "#7201a8"
             ],
             [
              0.3333333333333333,
              "#9c179e"
             ],
             [
              0.4444444444444444,
              "#bd3786"
             ],
             [
              0.5555555555555556,
              "#d8576b"
             ],
             [
              0.6666666666666666,
              "#ed7953"
             ],
             [
              0.7777777777777778,
              "#fb9f3a"
             ],
             [
              0.8888888888888888,
              "#fdca26"
             ],
             [
              1,
              "#f0f921"
             ]
            ],
            "type": "contour"
           }
          ],
          "contourcarpet": [
           {
            "colorbar": {
             "outlinewidth": 0,
             "ticks": ""
            },
            "type": "contourcarpet"
           }
          ],
          "heatmap": [
           {
            "colorbar": {
             "outlinewidth": 0,
             "ticks": ""
            },
            "colorscale": [
             [
              0,
              "#0d0887"
             ],
             [
              0.1111111111111111,
              "#46039f"
             ],
             [
              0.2222222222222222,
              "#7201a8"
             ],
             [
              0.3333333333333333,
              "#9c179e"
             ],
             [
              0.4444444444444444,
              "#bd3786"
             ],
             [
              0.5555555555555556,
              "#d8576b"
             ],
             [
              0.6666666666666666,
              "#ed7953"
             ],
             [
              0.7777777777777778,
              "#fb9f3a"
             ],
             [
              0.8888888888888888,
              "#fdca26"
             ],
             [
              1,
              "#f0f921"
             ]
            ],
            "type": "heatmap"
           }
          ],
          "histogram": [
           {
            "marker": {
             "pattern": {
              "fillmode": "overlay",
              "size": 10,
              "solidity": 0.2
             }
            },
            "type": "histogram"
           }
          ],
          "histogram2d": [
           {
            "colorbar": {
             "outlinewidth": 0,
             "ticks": ""
            },
            "colorscale": [
             [
              0,
              "#0d0887"
             ],
             [
              0.1111111111111111,
              "#46039f"
             ],
             [
              0.2222222222222222,
              "#7201a8"
             ],
             [
              0.3333333333333333,
              "#9c179e"
             ],
             [
              0.4444444444444444,
              "#bd3786"
             ],
             [
              0.5555555555555556,
              "#d8576b"
             ],
             [
              0.6666666666666666,
              "#ed7953"
             ],
             [
              0.7777777777777778,
              "#fb9f3a"
             ],
             [
              0.8888888888888888,
              "#fdca26"
             ],
             [
              1,
              "#f0f921"
             ]
            ],
            "type": "histogram2d"
           }
          ],
          "histogram2dcontour": [
           {
            "colorbar": {
             "outlinewidth": 0,
             "ticks": ""
            },
            "colorscale": [
             [
              0,
              "#0d0887"
             ],
             [
              0.1111111111111111,
              "#46039f"
             ],
             [
              0.2222222222222222,
              "#7201a8"
             ],
             [
              0.3333333333333333,
              "#9c179e"
             ],
             [
              0.4444444444444444,
              "#bd3786"
             ],
             [
              0.5555555555555556,
              "#d8576b"
             ],
             [
              0.6666666666666666,
              "#ed7953"
             ],
             [
              0.7777777777777778,
              "#fb9f3a"
             ],
             [
              0.8888888888888888,
              "#fdca26"
             ],
             [
              1,
              "#f0f921"
             ]
            ],
            "type": "histogram2dcontour"
           }
          ],
          "mesh3d": [
           {
            "colorbar": {
             "outlinewidth": 0,
             "ticks": ""
            },
            "type": "mesh3d"
           }
          ],
          "parcoords": [
           {
            "line": {
             "colorbar": {
              "outlinewidth": 0,
              "ticks": ""
             }
            },
            "type": "parcoords"
           }
          ],
          "pie": [
           {
            "automargin": true,
            "type": "pie"
           }
          ],
          "scatter": [
           {
            "fillpattern": {
             "fillmode": "overlay",
             "size": 10,
             "solidity": 0.2
            },
            "type": "scatter"
           }
          ],
          "scatter3d": [
           {
            "line": {
             "colorbar": {
              "outlinewidth": 0,
              "ticks": ""
             }
            },
            "marker": {
             "colorbar": {
              "outlinewidth": 0,
              "ticks": ""
             }
            },
            "type": "scatter3d"
           }
          ],
          "scattercarpet": [
           {
            "marker": {
             "colorbar": {
              "outlinewidth": 0,
              "ticks": ""
             }
            },
            "type": "scattercarpet"
           }
          ],
          "scattergeo": [
           {
            "marker": {
             "colorbar": {
              "outlinewidth": 0,
              "ticks": ""
             }
            },
            "type": "scattergeo"
           }
          ],
          "scattergl": [
           {
            "marker": {
             "colorbar": {
              "outlinewidth": 0,
              "ticks": ""
             }
            },
            "type": "scattergl"
           }
          ],
          "scattermap": [
           {
            "marker": {
             "colorbar": {
              "outlinewidth": 0,
              "ticks": ""
             }
            },
            "type": "scattermap"
           }
          ],
          "scattermapbox": [
           {
            "marker": {
             "colorbar": {
              "outlinewidth": 0,
              "ticks": ""
             }
            },
            "type": "scattermapbox"
           }
          ],
          "scatterpolar": [
           {
            "marker": {
             "colorbar": {
              "outlinewidth": 0,
              "ticks": ""
             }
            },
            "type": "scatterpolar"
           }
          ],
          "scatterpolargl": [
           {
            "marker": {
             "colorbar": {
              "outlinewidth": 0,
              "ticks": ""
             }
            },
            "type": "scatterpolargl"
           }
          ],
          "scatterternary": [
           {
            "marker": {
             "colorbar": {
              "outlinewidth": 0,
              "ticks": ""
             }
            },
            "type": "scatterternary"
           }
          ],
          "surface": [
           {
            "colorbar": {
             "outlinewidth": 0,
             "ticks": ""
            },
            "colorscale": [
             [
              0,
              "#0d0887"
             ],
             [
              0.1111111111111111,
              "#46039f"
             ],
             [
              0.2222222222222222,
              "#7201a8"
             ],
             [
              0.3333333333333333,
              "#9c179e"
             ],
             [
              0.4444444444444444,
              "#bd3786"
             ],
             [
              0.5555555555555556,
              "#d8576b"
             ],
             [
              0.6666666666666666,
              "#ed7953"
             ],
             [
              0.7777777777777778,
              "#fb9f3a"
             ],
             [
              0.8888888888888888,
              "#fdca26"
             ],
             [
              1,
              "#f0f921"
             ]
            ],
            "type": "surface"
           }
          ],
          "table": [
           {
            "cells": {
             "fill": {
              "color": "#EBF0F8"
             },
             "line": {
              "color": "white"
             }
            },
            "header": {
             "fill": {
              "color": "#C8D4E3"
             },
             "line": {
              "color": "white"
             }
            },
            "type": "table"
           }
          ]
         },
         "layout": {
          "annotationdefaults": {
           "arrowcolor": "#2a3f5f",
           "arrowhead": 0,
           "arrowwidth": 1
          },
          "autotypenumbers": "strict",
          "coloraxis": {
           "colorbar": {
            "outlinewidth": 0,
            "ticks": ""
           }
          },
          "colorscale": {
           "diverging": [
            [
             0,
             "#8e0152"
            ],
            [
             0.1,
             "#c51b7d"
            ],
            [
             0.2,
             "#de77ae"
            ],
            [
             0.3,
             "#f1b6da"
            ],
            [
             0.4,
             "#fde0ef"
            ],
            [
             0.5,
             "#f7f7f7"
            ],
            [
             0.6,
             "#e6f5d0"
            ],
            [
             0.7,
             "#b8e186"
            ],
            [
             0.8,
             "#7fbc41"
            ],
            [
             0.9,
             "#4d9221"
            ],
            [
             1,
             "#276419"
            ]
           ],
           "sequential": [
            [
             0,
             "#0d0887"
            ],
            [
             0.1111111111111111,
             "#46039f"
            ],
            [
             0.2222222222222222,
             "#7201a8"
            ],
            [
             0.3333333333333333,
             "#9c179e"
            ],
            [
             0.4444444444444444,
             "#bd3786"
            ],
            [
             0.5555555555555556,
             "#d8576b"
            ],
            [
             0.6666666666666666,
             "#ed7953"
            ],
            [
             0.7777777777777778,
             "#fb9f3a"
            ],
            [
             0.8888888888888888,
             "#fdca26"
            ],
            [
             1,
             "#f0f921"
            ]
           ],
           "sequentialminus": [
            [
             0,
             "#0d0887"
            ],
            [
             0.1111111111111111,
             "#46039f"
            ],
            [
             0.2222222222222222,
             "#7201a8"
            ],
            [
             0.3333333333333333,
             "#9c179e"
            ],
            [
             0.4444444444444444,
             "#bd3786"
            ],
            [
             0.5555555555555556,
             "#d8576b"
            ],
            [
             0.6666666666666666,
             "#ed7953"
            ],
            [
             0.7777777777777778,
             "#fb9f3a"
            ],
            [
             0.8888888888888888,
             "#fdca26"
            ],
            [
             1,
             "#f0f921"
            ]
           ]
          },
          "colorway": [
           "#636efa",
           "#EF553B",
           "#00cc96",
           "#ab63fa",
           "#FFA15A",
           "#19d3f3",
           "#FF6692",
           "#B6E880",
           "#FF97FF",
           "#FECB52"
          ],
          "font": {
           "color": "#2a3f5f"
          },
          "geo": {
           "bgcolor": "white",
           "lakecolor": "white",
           "landcolor": "white",
           "showlakes": true,
           "showland": true,
           "subunitcolor": "#C8D4E3"
          },
          "hoverlabel": {
           "align": "left"
          },
          "hovermode": "closest",
          "mapbox": {
           "style": "light"
          },
          "paper_bgcolor": "white",
          "plot_bgcolor": "white",
          "polar": {
           "angularaxis": {
            "gridcolor": "#EBF0F8",
            "linecolor": "#EBF0F8",
            "ticks": ""
           },
           "bgcolor": "white",
           "radialaxis": {
            "gridcolor": "#EBF0F8",
            "linecolor": "#EBF0F8",
            "ticks": ""
           }
          },
          "scene": {
           "xaxis": {
            "backgroundcolor": "white",
            "gridcolor": "#DFE8F3",
            "gridwidth": 2,
            "linecolor": "#EBF0F8",
            "showbackground": true,
            "ticks": "",
            "zerolinecolor": "#EBF0F8"
           },
           "yaxis": {
            "backgroundcolor": "white",
            "gridcolor": "#DFE8F3",
            "gridwidth": 2,
            "linecolor": "#EBF0F8",
            "showbackground": true,
            "ticks": "",
            "zerolinecolor": "#EBF0F8"
           },
           "zaxis": {
            "backgroundcolor": "white",
            "gridcolor": "#DFE8F3",
            "gridwidth": 2,
            "linecolor": "#EBF0F8",
            "showbackground": true,
            "ticks": "",
            "zerolinecolor": "#EBF0F8"
           }
          },
          "shapedefaults": {
           "line": {
            "color": "#2a3f5f"
           }
          },
          "ternary": {
           "aaxis": {
            "gridcolor": "#DFE8F3",
            "linecolor": "#A2B1C6",
            "ticks": ""
           },
           "baxis": {
            "gridcolor": "#DFE8F3",
            "linecolor": "#A2B1C6",
            "ticks": ""
           },
           "bgcolor": "white",
           "caxis": {
            "gridcolor": "#DFE8F3",
            "linecolor": "#A2B1C6",
            "ticks": ""
           }
          },
          "title": {
           "x": 0.05
          },
          "xaxis": {
           "automargin": true,
           "gridcolor": "#EBF0F8",
           "linecolor": "#EBF0F8",
           "ticks": "",
           "title": {
            "standoff": 15
           },
           "zerolinecolor": "#EBF0F8",
           "zerolinewidth": 2
          },
          "yaxis": {
           "automargin": true,
           "gridcolor": "#EBF0F8",
           "linecolor": "#EBF0F8",
           "ticks": "",
           "title": {
            "standoff": 15
           },
           "zerolinecolor": "#EBF0F8",
           "zerolinewidth": 2
          }
         }
        },
        "title": {
         "text": "Course GPA vs Prof Rating (size = Difficulty)"
        },
        "width": 700,
        "xaxis": {
         "anchor": "y",
         "domain": [
          0,
          1
         ],
         "title": {
          "text": "Course Code"
         }
        },
        "yaxis": {
         "anchor": "x",
         "domain": [
          0,
          1
         ],
         "title": {
          "text": "Weighted GPA"
         }
        }
       }
      }
     },
     "metadata": {},
     "output_type": "display_data"
    }
   ],
   "source": [
    "remove_course('CS124')"
   ]
  },
  {
   "cell_type": "code",
   "execution_count": 291,
   "metadata": {},
   "outputs": [],
   "source": [
    "import altair as alt\n",
    "\n",
    "def make_grouped_bar_chart(df, chart_width=700, chart_height=450):\n",
    "    \"\"\"\n",
    "    Returns an Altair grouped‐bar chart where:\n",
    "      • x = course_code\n",
    "      • bars within each course are one per primary_instructor (side-by-side)\n",
    "      • y = weighted_gpa\n",
    "      • color = primary_instructor\n",
    "    \"\"\"\n",
    "    return (\n",
    "        alt.Chart(df)\n",
    "           # thicker bars\n",
    "           .mark_bar(size=40)\n",
    "           .encode(\n",
    "               x=alt.X(\n",
    "                   'course_code:O',\n",
    "                   title='Course',\n",
    "                   axis=alt.Axis(labelAngle=-45, labelFontSize=12, titleFontSize=14),\n",
    "                   scale=alt.Scale(\n",
    "                       paddingInner=0.352,  # space between professors in the same course\n",
    "                       padding=0.1        # overall padding on the ends\n",
    "                   )\n",
    "               ),\n",
    "               # side-by-side grouping by instructor\n",
    "               xOffset='primary_instructor:N',\n",
    "               y=alt.Y(\n",
    "                   'weighted_gpa:Q',\n",
    "                   title='Weighted GPA',\n",
    "                   axis=alt.Axis(labelFontSize=12, titleFontSize=14)\n",
    "               ),\n",
    "               color=alt.Color('primary_instructor:N', title='Professor'),\n",
    "               tooltip=[\n",
    "                   alt.Tooltip('course_code:N', title='Course'),\n",
    "                   alt.Tooltip('primary_instructor:N', title='Professor'),\n",
    "                   alt.Tooltip('weighted_gpa:Q', title='Weighted GPA', format='.2f')\n",
    "               ]\n",
    "           )\n",
    "           .properties(\n",
    "               width=chart_width,\n",
    "               height=chart_height,\n",
    "               title='Weighted GPA by Course and Professor'\n",
    "           )\n",
    "           .configure_title(fontSize=18, anchor='middle')\n",
    "    )"
   ]
  },
  {
   "cell_type": "code",
   "execution_count": 293,
   "metadata": {},
   "outputs": [
    {
     "data": {
      "text/html": [
       "\n",
       "<style>\n",
       "  #altair-viz-e42707ebdf584bc39c3d3308575204f4.vega-embed {\n",
       "    width: 100%;\n",
       "    display: flex;\n",
       "  }\n",
       "\n",
       "  #altair-viz-e42707ebdf584bc39c3d3308575204f4.vega-embed details,\n",
       "  #altair-viz-e42707ebdf584bc39c3d3308575204f4.vega-embed details summary {\n",
       "    position: relative;\n",
       "  }\n",
       "</style>\n",
       "<div id=\"altair-viz-e42707ebdf584bc39c3d3308575204f4\"></div>\n",
       "<script type=\"text/javascript\">\n",
       "  var VEGA_DEBUG = (typeof VEGA_DEBUG == \"undefined\") ? {} : VEGA_DEBUG;\n",
       "  (function(spec, embedOpt){\n",
       "    let outputDiv = document.currentScript.previousElementSibling;\n",
       "    if (outputDiv.id !== \"altair-viz-e42707ebdf584bc39c3d3308575204f4\") {\n",
       "      outputDiv = document.getElementById(\"altair-viz-e42707ebdf584bc39c3d3308575204f4\");\n",
       "    }\n",
       "\n",
       "    const paths = {\n",
       "      \"vega\": \"https://cdn.jsdelivr.net/npm/vega@5?noext\",\n",
       "      \"vega-lib\": \"https://cdn.jsdelivr.net/npm/vega-lib?noext\",\n",
       "      \"vega-lite\": \"https://cdn.jsdelivr.net/npm/vega-lite@5.20.1?noext\",\n",
       "      \"vega-embed\": \"https://cdn.jsdelivr.net/npm/vega-embed@6?noext\",\n",
       "    };\n",
       "\n",
       "    function maybeLoadScript(lib, version) {\n",
       "      var key = `${lib.replace(\"-\", \"\")}_version`;\n",
       "      return (VEGA_DEBUG[key] == version) ?\n",
       "        Promise.resolve(paths[lib]) :\n",
       "        new Promise(function(resolve, reject) {\n",
       "          var s = document.createElement('script');\n",
       "          document.getElementsByTagName(\"head\")[0].appendChild(s);\n",
       "          s.async = true;\n",
       "          s.onload = () => {\n",
       "            VEGA_DEBUG[key] = version;\n",
       "            return resolve(paths[lib]);\n",
       "          };\n",
       "          s.onerror = () => reject(`Error loading script: ${paths[lib]}`);\n",
       "          s.src = paths[lib];\n",
       "        });\n",
       "    }\n",
       "\n",
       "    function showError(err) {\n",
       "      outputDiv.innerHTML = `<div class=\"error\" style=\"color:red;\">${err}</div>`;\n",
       "      throw err;\n",
       "    }\n",
       "\n",
       "    function displayChart(vegaEmbed) {\n",
       "      vegaEmbed(outputDiv, spec, embedOpt)\n",
       "        .catch(err => showError(`Javascript Error: ${err.message}<br>This usually means there's a typo in your chart specification. See the javascript console for the full traceback.`));\n",
       "    }\n",
       "\n",
       "    if(typeof define === \"function\" && define.amd) {\n",
       "      requirejs.config({paths});\n",
       "      let deps = [\"vega-embed\"];\n",
       "      require(deps, displayChart, err => showError(`Error loading script: ${err.message}`));\n",
       "    } else {\n",
       "      maybeLoadScript(\"vega\", \"5\")\n",
       "        .then(() => maybeLoadScript(\"vega-lite\", \"5.20.1\"))\n",
       "        .then(() => maybeLoadScript(\"vega-embed\", \"6\"))\n",
       "        .catch(showError)\n",
       "        .then(() => displayChart(vegaEmbed));\n",
       "    }\n",
       "  })({\"config\": {\"view\": {\"continuousWidth\": 300, \"continuousHeight\": 300}, \"title\": {\"anchor\": \"middle\", \"fontSize\": 18}}, \"data\": {\"name\": \"data-29ea61e271ac43f832d4999018a98e72\"}, \"mark\": {\"type\": \"bar\", \"size\": 40}, \"encoding\": {\"color\": {\"field\": \"primary_instructor\", \"title\": \"Professor\", \"type\": \"nominal\"}, \"tooltip\": [{\"field\": \"course_code\", \"title\": \"Course\", \"type\": \"nominal\"}, {\"field\": \"primary_instructor\", \"title\": \"Professor\", \"type\": \"nominal\"}, {\"field\": \"weighted_gpa\", \"format\": \".2f\", \"title\": \"Weighted GPA\", \"type\": \"quantitative\"}], \"x\": {\"axis\": {\"labelAngle\": -45, \"labelFontSize\": 12, \"titleFontSize\": 14}, \"field\": \"course_code\", \"scale\": {\"padding\": 0.1, \"paddingInner\": 0.352}, \"title\": \"Course\", \"type\": \"ordinal\"}, \"xOffset\": {\"field\": \"primary_instructor\", \"type\": \"nominal\"}, \"y\": {\"axis\": {\"labelFontSize\": 12, \"titleFontSize\": 14}, \"field\": \"weighted_gpa\", \"title\": \"Weighted GPA\", \"type\": \"quantitative\"}}, \"height\": 450, \"title\": \"Weighted GPA by Course and Professor\", \"width\": 700, \"$schema\": \"https://vega.github.io/schema/vega-lite/v5.20.1.json\", \"datasets\": {\"data-29ea61e271ac43f832d4999018a98e72\": [{\"primary_instructor\": \"Geoffrey Challen\", \"rating\": 3.3, \"level_of_difficulty\": 3.7, \"would_take_again\": 0.6, \"total_ratings\": 173, \"course_title\": \"Intro to Computer Science I\", \"simple_gpa\": 3.564426973747474, \"total_grade_points\": 23865.2, \"total_students\": 6608.0, \"weighted_gpa\": 3.6115617433414045, \"course_code\": \"CS124\"}, {\"primary_instructor\": \"Isaac DiIanni\", \"rating\": 4.4, \"level_of_difficulty\": 2.6, \"would_take_again\": 0.83, \"total_ratings\": 156, \"course_title\": \"Microeconomic Principles\", \"simple_gpa\": 3.216907048034101, \"total_grade_points\": 15924.64, \"total_students\": 4623.0, \"weighted_gpa\": 3.4446549859398656, \"course_code\": \"ECON102\"}, {\"primary_instructor\": \"Bryan Buckley\", \"rating\": 3.8, \"level_of_difficulty\": 2.9, \"would_take_again\": 0.67, \"total_ratings\": 94, \"course_title\": null, \"simple_gpa\": null, \"total_grade_points\": null, \"total_students\": null, \"weighted_gpa\": null, \"course_code\": null}, {\"primary_instructor\": \"Manijeh Bahreini Esfaha\", \"rating\": 3.9, \"level_of_difficulty\": 2.9, \"would_take_again\": 0.78, \"total_ratings\": 49, \"course_title\": \"Calculus II\", \"simple_gpa\": 3.0959144284890217, \"total_grade_points\": 11044.51, \"total_students\": 3556.0, \"weighted_gpa\": 3.1058802024746908, \"course_code\": \"MATH231\"}, {\"primary_instructor\": \"April Hoffmeister\", \"rating\": 4.9, \"level_of_difficulty\": 2.9, \"would_take_again\": 0.99, \"total_ratings\": 65, \"course_title\": null, \"simple_gpa\": null, \"total_grade_points\": null, \"total_students\": null, \"weighted_gpa\": null, \"course_code\": null}, {\"primary_instructor\": \"Jared Bronski\", \"rating\": 4.5, \"level_of_difficulty\": 2.8, \"would_take_again\": 1.0, \"total_ratings\": 79, \"course_title\": \"Calculus II\", \"simple_gpa\": 2.9942081752591485, \"total_grade_points\": 9527.32, \"total_students\": 3190.0, \"weighted_gpa\": 2.9866206896551724, \"course_code\": \"MATH231\"}, {\"primary_instructor\": \"Jer-Chin Chuang\", \"rating\": 2.3, \"level_of_difficulty\": 4.3, \"would_take_again\": 0.3, \"total_ratings\": 68, \"course_title\": \"Linear Algebra w Computat Appl\", \"simple_gpa\": 3.2827567913053315, \"total_grade_points\": 15058.1, \"total_students\": 4579.0, \"weighted_gpa\": 3.2885127757152217, \"course_code\": \"MATH257\"}, {\"primary_instructor\": \"Daniel Berwick Evans\", \"rating\": 4.1, \"level_of_difficulty\": 3.6, \"would_take_again\": 0.8, \"total_ratings\": 15, \"course_title\": \"Calculus II\", \"simple_gpa\": 2.964775655610162, \"total_grade_points\": 2843.57, \"total_students\": 959.0, \"weighted_gpa\": 2.965140771637122, \"course_code\": \"MATH231\"}, {\"primary_instructor\": \"Wade Fagen-Ulmschneider\", \"rating\": 4.6, \"level_of_difficulty\": 2.6, \"would_take_again\": 0.92, \"total_ratings\": 64, \"course_title\": null, \"simple_gpa\": null, \"total_grade_points\": null, \"total_students\": null, \"weighted_gpa\": null, \"course_code\": null}, {\"primary_instructor\": \"Karle Flanagan\", \"rating\": 4.9, \"level_of_difficulty\": 1.9, \"would_take_again\": 0.97, \"total_ratings\": 252, \"course_title\": \"Data Science Discovery\", \"simple_gpa\": 3.571817621507857, \"total_grade_points\": 15598.41, \"total_students\": 4345.0, \"weighted_gpa\": 3.5899677790563866, \"course_code\": \"STAT107\"}]}}, {\"mode\": \"vega-lite\"});\n",
       "</script>"
      ],
      "text/plain": [
       "alt.Chart(...)"
      ]
     },
     "execution_count": 293,
     "metadata": {},
     "output_type": "execute_result"
    }
   ],
   "source": [
    "make_grouped_bar_chart(df)"
   ]
  },
  {
   "cell_type": "code",
   "execution_count": null,
   "metadata": {},
   "outputs": [],
   "source": []
  }
 ],
 "metadata": {
  "kernelspec": {
   "display_name": "Python 3",
   "language": "python",
   "name": "python3"
  },
  "language_info": {
   "codemirror_mode": {
    "name": "ipython",
    "version": 3
   },
   "file_extension": ".py",
   "mimetype": "text/x-python",
   "name": "python",
   "nbconvert_exporter": "python",
   "pygments_lexer": "ipython3",
   "version": "3.12.2"
  },
  "orig_nbformat": 4
 },
 "nbformat": 4,
 "nbformat_minor": 2
}
